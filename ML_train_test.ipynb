{
 "cells": [
  {
   "cell_type": "code",
   "execution_count": 1,
   "id": "d4aff2f1",
   "metadata": {},
   "outputs": [],
   "source": [
    "import numpy as np\n",
    "import pandas as pd\n",
    "import cv2 \n",
    "from PIL import Image\n",
    "import seaborn as sns\n",
    "from tqdm import tqdm\n",
    "import tensorflow as tf\n",
    "\n",
    "from sklearn.model_selection import GridSearchCV\n",
    "from sklearn.model_selection import train_test_split\n",
    "from sklearn.preprocessing import MinMaxScaler, StandardScaler\n",
    "from sklearn.preprocessing import normalize\n",
    "from sklearn.ensemble import RandomForestClassifier\n",
    "import pickle\n",
    "from sklearn.svm import SVC\n",
    "from sklearn.metrics import accuracy_score\n",
    "from sklearn.model_selection import train_test_split\n",
    "import xgboost as xgb\n",
    "from sklearn.linear_model import LogisticRegression"
   ]
  },
  {
   "cell_type": "code",
   "execution_count": 2,
   "id": "a55e7d90",
   "metadata": {},
   "outputs": [
    {
     "data": {
      "text/plain": [
       "((1900, 138), (1900,))"
      ]
     },
     "execution_count": 2,
     "metadata": {},
     "output_type": "execute_result"
    }
   ],
   "source": [
    "y = np.load('new_y.npy')\n",
    "x = np.load('new_cut_feature.npy')\n",
    "x.shape , y.shape"
   ]
  },
  {
   "cell_type": "code",
   "execution_count": 3,
   "id": "8e372b59",
   "metadata": {},
   "outputs": [
    {
     "name": "stdout",
     "output_type": "stream",
     "text": [
      "(950, 138) (950, 138) (950,) (950,)\n"
     ]
    }
   ],
   "source": [
    "x_ar = []\n",
    "x_en = []\n",
    "\n",
    "y_ar = []\n",
    "y_en = []\n",
    "for i,v in enumerate(x):\n",
    "    if i%4<2:\n",
    "        x_ar.append(v)\n",
    "        y_ar.append(y[i])\n",
    "    else:\n",
    "        x_en.append(v)\n",
    "        y_en.append(y[i])\n",
    "        \n",
    "x_ar , y_ar , x_en , y_en= np.array(x_ar),np.array(y_ar),np.array(x_en),np.array(y_en)\n",
    "\n",
    "print(x_ar.shape , x_en.shape , y_ar.shape , y_en.shape)"
   ]
  },
  {
   "cell_type": "code",
   "execution_count": 30,
   "id": "d4e50fbd",
   "metadata": {},
   "outputs": [
    {
     "name": "stdout",
     "output_type": "stream",
     "text": [
      "(665, 138) (285, 138)\n",
      "(665,) (285,)\n",
      "(665, 138) (285, 138)\n",
      "(665,) (285,)\n",
      "(1330, 138) (570, 138)\n",
      "(1330,) (570,)\n"
     ]
    }
   ],
   "source": [
    "#train test = 7 : 3\n",
    "\n",
    "#아랍 데이터 나누기\n",
    "x_train_ar, x_test_ar, y_train_ar, y_test_ar = train_test_split(x_ar,y_ar, test_size=0.3, shuffle=True, random_state=111)\n",
    "\n",
    "#영어 데이터 나누기\n",
    "x_train_en, x_test_en, y_train_en, y_test_en = train_test_split(x_en,y_en, test_size=0.3, shuffle=True, random_state=111)\n",
    "\n",
    "#영아 + 아랍 데이터\n",
    "x_train_all = np.concatenate((x_train_ar,x_train_en),axis=0)\n",
    "x_test_all =  np.concatenate((x_test_ar,x_test_en),axis=0)\n",
    "\n",
    "y_train_all = np.concatenate((y_train_ar,y_train_en),axis=0)\n",
    "y_test_all = np.concatenate((y_test_ar,y_test_en),axis=0)\n",
    "\n",
    "print(x_train_ar.shape , x_test_ar.shape)\n",
    "print(y_train_ar.shape , y_test_ar.shape)\n",
    "\n",
    "print(x_train_en.shape , x_test_en.shape)\n",
    "print(y_train_en.shape , y_test_en.shape)\n",
    "      \n",
    "print(x_train_all.shape , x_test_all.shape)\n",
    "print(y_train_all.shape , y_test_all.shape)"
   ]
  },
  {
   "cell_type": "code",
   "execution_count": null,
   "id": "0ac59275",
   "metadata": {},
   "outputs": [],
   "source": []
  },
  {
   "cell_type": "code",
   "execution_count": null,
   "id": "90e275a2",
   "metadata": {},
   "outputs": [],
   "source": []
  },
  {
   "cell_type": "code",
   "execution_count": 36,
   "id": "41e25e69",
   "metadata": {},
   "outputs": [
    {
     "name": "stdout",
     "output_type": "stream",
     "text": [
      "False False False False\n",
      "True True True True\n",
      "train data length: 665 , 665\n",
      "train data length: 570 , 570\n"
     ]
    }
   ],
   "source": [
    "#Case마다 여기서 변경\n",
    "train_x = x_train_en\n",
    "test_x = x_test_all\n",
    "\n",
    "train_y = y_train_en\n",
    "test_y = y_test_all\n",
    "\n",
    "cs = StandardScaler()\n",
    "train_x = cs.fit_transform(train_x)\n",
    "test_x = cs.transform(test_x)\n",
    "\n",
    "\n",
    "\n",
    "#모두 False나와야 함\n",
    "print(np.isnan(train_x).all(),np.isnan(test_x).all(),\n",
    "      np.isnan(train_y).all(),np.isnan(test_y).all())\n",
    "#모두 True 나와야 함\n",
    "print(np.isfinite(train_x).all(),np.isfinite(test_x).all(),\n",
    "      np.isfinite(train_y).all(),np.isfinite(test_y).all())\n",
    "\n",
    "print(f'train data length: {len(train_x)} , {len(train_y)}')\n",
    "print(f'train data length: {len(test_x)} , {len(test_y)}')"
   ]
  },
  {
   "cell_type": "code",
   "execution_count": null,
   "id": "00f4f207",
   "metadata": {},
   "outputs": [],
   "source": []
  },
  {
   "cell_type": "markdown",
   "id": "adceaad2",
   "metadata": {},
   "source": [
    "SVM"
   ]
  },
  {
   "cell_type": "code",
   "execution_count": 6,
   "id": "f4204813",
   "metadata": {},
   "outputs": [],
   "source": [
    "pd.set_option('display.max.colwidth', 100)"
   ]
  },
  {
   "cell_type": "code",
   "execution_count": 7,
   "id": "7eec8385",
   "metadata": {},
   "outputs": [
    {
     "name": "stdout",
     "output_type": "stream",
     "text": [
      "Fitting 5 folds for each of 180 candidates, totalling 900 fits\n"
     ]
    },
    {
     "name": "stderr",
     "output_type": "stream",
     "text": [
      "[Parallel(n_jobs=-1)]: Using backend LokyBackend with 16 concurrent workers.\n",
      "[Parallel(n_jobs=-1)]: Done  18 tasks      | elapsed:    6.3s\n",
      "[Parallel(n_jobs=-1)]: Done 168 tasks      | elapsed:    9.1s\n",
      "[Parallel(n_jobs=-1)]: Done 418 tasks      | elapsed:   13.4s\n",
      "[Parallel(n_jobs=-1)]: Done 768 tasks      | elapsed:   19.3s\n",
      "[Parallel(n_jobs=-1)]: Done 900 out of 900 | elapsed:   21.4s finished\n"
     ]
    },
    {
     "name": "stdout",
     "output_type": "stream",
     "text": [
      "0.780451127819549 {'C': 3, 'gamma': 0.02, 'kernel': 'rbf'}\n",
      "     rank_test_score                                     params  \\\n",
      "34                 1   {'C': 3, 'gamma': 0.02, 'kernel': 'rbf'}   \n",
      "81                 2   {'C': 7, 'gamma': 0.01, 'kernel': 'rbf'}   \n",
      "153                3  {'C': 13, 'gamma': 0.01, 'kernel': 'rbf'}   \n",
      "57                 3   {'C': 5, 'gamma': 0.01, 'kernel': 'rbf'}   \n",
      "69                 5   {'C': 6, 'gamma': 0.01, 'kernel': 'rbf'}   \n",
      "\n",
      "     mean_test_score  \n",
      "34          0.780451  \n",
      "81          0.779699  \n",
      "153         0.778947  \n",
      "57          0.778947  \n",
      "69          0.778195  \n"
     ]
    }
   ],
   "source": [
    "param_grid = {'kernel':['rbf'], 'C':[1,2,3,4,5,6,7,8,9,10,11,12,13,14,15], \n",
    "              'gamma':['auto','scale',0.0001,0.0005,0.001,0.002,0,0.005,0.007,0.01,0.02,0.05]}\n",
    "\n",
    "svm_clf = SVC(random_state=100)\n",
    "grid = GridSearchCV(svm_clf, param_grid=param_grid,scoring = 'accuracy',verbose = 1,n_jobs =-1) \n",
    "grid.fit(train_x, train_y)\n",
    "\n",
    "print(grid.best_score_,grid.best_params_)\n",
    "print(pd.DataFrame(grid.cv_results_).sort_values(by='rank_test_score')[['rank_test_score','params','mean_test_score']][:5])"
   ]
  },
  {
   "cell_type": "code",
   "execution_count": 26,
   "id": "7398faf8",
   "metadata": {},
   "outputs": [
    {
     "name": "stdout",
     "output_type": "stream",
     "text": [
      "Accuracy: 77.89473684210526 %\n"
     ]
    }
   ],
   "source": [
    "svm_pred = grid.best_estimator_.predict(test_x)\n",
    "print('Accuracy:', accuracy_score(test_y, svm_pred)*100, '%')"
   ]
  },
  {
   "cell_type": "code",
   "execution_count": null,
   "id": "c7aed1e9",
   "metadata": {},
   "outputs": [],
   "source": []
  },
  {
   "cell_type": "markdown",
   "id": "811f276f",
   "metadata": {},
   "source": [
    "rf"
   ]
  },
  {
   "cell_type": "code",
   "execution_count": 15,
   "id": "342bd008",
   "metadata": {},
   "outputs": [
    {
     "name": "stdout",
     "output_type": "stream",
     "text": [
      "Fitting 5 folds for each of 160 candidates, totalling 800 fits\n"
     ]
    },
    {
     "name": "stderr",
     "output_type": "stream",
     "text": [
      "[Parallel(n_jobs=-1)]: Using backend LokyBackend with 16 concurrent workers.\n",
      "[Parallel(n_jobs=-1)]: Done  18 tasks      | elapsed:    3.9s\n",
      "[Parallel(n_jobs=-1)]: Done 168 tasks      | elapsed:   23.5s\n",
      "[Parallel(n_jobs=-1)]: Done 418 tasks      | elapsed:   58.8s\n",
      "[Parallel(n_jobs=-1)]: Done 768 tasks      | elapsed:  1.9min\n",
      "[Parallel(n_jobs=-1)]: Done 800 out of 800 | elapsed:  2.0min finished\n"
     ]
    },
    {
     "name": "stdout",
     "output_type": "stream",
     "text": [
      "0.7300751879699249 {'max_depth': 12, 'min_samples_leaf': 1, 'min_samples_split': 3, 'n_estimators': 280}\n",
      "                                                                                    params  \\\n",
      "101  {'max_depth': 12, 'min_samples_leaf': 1, 'min_samples_split': 3, 'n_estimators': 280}   \n",
      "100  {'max_depth': 12, 'min_samples_leaf': 1, 'min_samples_split': 3, 'n_estimators': 270}   \n",
      "137  {'max_depth': 13, 'min_samples_leaf': 1, 'min_samples_split': 4, 'n_estimators': 280}   \n",
      "132  {'max_depth': 13, 'min_samples_leaf': 1, 'min_samples_split': 3, 'n_estimators': 270}   \n",
      "139  {'max_depth': 13, 'min_samples_leaf': 1, 'min_samples_split': 4, 'n_estimators': 300}   \n",
      "\n",
      "     mean_test_score  \n",
      "101         0.730075  \n",
      "100         0.728571  \n",
      "137         0.727820  \n",
      "132         0.726316  \n",
      "139         0.725564  \n"
     ]
    }
   ],
   "source": [
    "rf_param_grid = {\n",
    "    'n_estimators' : [270,280,290,300],\n",
    "    'max_depth' : [9,10,11,12,13],      #default : \" None\",\n",
    "    'min_samples_leaf' : [1,2],     #default : 1\n",
    "    'min_samples_split' : [2,3,4,5]  #default : 2\n",
    "}\n",
    "\n",
    "rf_clf = RandomForestClassifier(random_state=42)\n",
    "rf_grid = GridSearchCV(rf_clf, param_grid=rf_param_grid,scoring = 'accuracy',verbose = 1,n_jobs =-1) \n",
    "rf_grid.fit(train_x, train_y)\n",
    "\n",
    "print(rf_grid.best_score_,rf_grid.best_params_)\n",
    "rf_df = pd.DataFrame(rf_grid.cv_results_).sort_values(by='rank_test_score')\n",
    "print(rf_df[['params','mean_test_score']][:5])"
   ]
  },
  {
   "cell_type": "code",
   "execution_count": 27,
   "id": "533148a9",
   "metadata": {},
   "outputs": [
    {
     "name": "stdout",
     "output_type": "stream",
     "text": [
      "Accuracy: 69.12280701754386 %\n"
     ]
    }
   ],
   "source": [
    "rf_pred = rf_grid.best_estimator_.predict(test_x)\n",
    "print('Accuracy:', accuracy_score(test_y, rf_pred)*100, '%')"
   ]
  },
  {
   "cell_type": "code",
   "execution_count": null,
   "id": "2993d65c",
   "metadata": {},
   "outputs": [],
   "source": []
  },
  {
   "cell_type": "code",
   "execution_count": null,
   "id": "40c62c75",
   "metadata": {},
   "outputs": [],
   "source": []
  },
  {
   "cell_type": "markdown",
   "id": "791bca9f",
   "metadata": {},
   "source": [
    "XGB"
   ]
  },
  {
   "cell_type": "code",
   "execution_count": 17,
   "id": "599379bf",
   "metadata": {},
   "outputs": [
    {
     "name": "stdout",
     "output_type": "stream",
     "text": [
      "Fitting 5 folds for each of 30 candidates, totalling 150 fits\n"
     ]
    },
    {
     "name": "stderr",
     "output_type": "stream",
     "text": [
      "[Parallel(n_jobs=-1)]: Using backend LokyBackend with 16 concurrent workers.\n",
      "[Parallel(n_jobs=-1)]: Done  18 tasks      | elapsed:   12.8s\n",
      "[Parallel(n_jobs=-1)]: Done 150 out of 150 | elapsed:  1.0min finished\n"
     ]
    },
    {
     "name": "stdout",
     "output_type": "stream",
     "text": [
      "0.7541353383458647 {'colsample_bytree': 0.9, 'learning_rate': 0.2, 'max_depth': 6, 'n_estimators': 300}\n",
      "                                                                                   params  \\\n",
      "12   {'colsample_bytree': 0.9, 'learning_rate': 0.2, 'max_depth': 6, 'n_estimators': 300}   \n",
      "13   {'colsample_bytree': 0.9, 'learning_rate': 0.2, 'max_depth': 6, 'n_estimators': 310}   \n",
      "28  {'colsample_bytree': 0.9, 'learning_rate': 0.25, 'max_depth': 9, 'n_estimators': 300}   \n",
      "29  {'colsample_bytree': 0.9, 'learning_rate': 0.25, 'max_depth': 9, 'n_estimators': 310}   \n",
      "17   {'colsample_bytree': 0.9, 'learning_rate': 0.2, 'max_depth': 8, 'n_estimators': 310}   \n",
      "\n",
      "    mean_test_score  \n",
      "12         0.754135  \n",
      "13         0.752632  \n",
      "28         0.752632  \n",
      "29         0.752632  \n",
      "17         0.751880  \n"
     ]
    }
   ],
   "source": [
    "xgb_param={\n",
    "    'n_estimators' : [300,310],\n",
    "    'learning_rate' : [0.15,0.2,0.25],\n",
    "    'max_depth' : [5,6,7,8,9],\n",
    "    #'gamma' : [0],\n",
    "    'colsample_bytree' : [0.9],\n",
    "    \n",
    "}\n",
    "xgb_clf= xgb.XGBClassifier(random_state=42)#tree_method='gpu_hist', gpu_id=0,\n",
    "xgb_grid = GridSearchCV(xgb_clf, param_grid=xgb_param,scoring = 'accuracy',verbose = 1,n_jobs =-1) \n",
    "xgb_grid.fit(train_x, train_y)\n",
    "\n",
    "print(xgb_grid.best_score_,xgb_grid.best_params_)\n",
    "xgb_df = pd.DataFrame(xgb_grid.cv_results_).sort_values(by='rank_test_score')\n",
    "print(xgb_df[['params','mean_test_score']][:5])"
   ]
  },
  {
   "cell_type": "code",
   "execution_count": 28,
   "id": "4cc10de4",
   "metadata": {},
   "outputs": [
    {
     "name": "stdout",
     "output_type": "stream",
     "text": [
      "Accuracy: 72.98245614035088 %\n"
     ]
    }
   ],
   "source": [
    "xgb_pred = xgb_grid.best_estimator_.predict(test_x)\n",
    "print('Accuracy:', accuracy_score(test_y, xgb_pred)*100, '%')"
   ]
  },
  {
   "cell_type": "code",
   "execution_count": null,
   "id": "d46b0236",
   "metadata": {},
   "outputs": [],
   "source": []
  },
  {
   "cell_type": "markdown",
   "id": "54169f00",
   "metadata": {},
   "source": [
    "Logistic regression"
   ]
  },
  {
   "cell_type": "code",
   "execution_count": 32,
   "id": "2240203b",
   "metadata": {},
   "outputs": [
    {
     "name": "stdout",
     "output_type": "stream",
     "text": [
      "Fitting 5 folds for each of 84 candidates, totalling 420 fits\n"
     ]
    },
    {
     "name": "stderr",
     "output_type": "stream",
     "text": [
      "[Parallel(n_jobs=-1)]: Using backend LokyBackend with 16 concurrent workers.\n",
      "[Parallel(n_jobs=-1)]: Done  18 tasks      | elapsed:    5.3s\n"
     ]
    },
    {
     "name": "stdout",
     "output_type": "stream",
     "text": [
      "0.7488721804511278 {'C': 0.05, 'max_iter': 100, 'penalty': 'l2'}\n",
      "    rank_test_score                                         params  \\\n",
      "41                1  {'C': 0.05, 'max_iter': 200, 'penalty': 'l2'}   \n",
      "37                1  {'C': 0.05, 'max_iter': 100, 'penalty': 'l2'}   \n",
      "39                1  {'C': 0.05, 'max_iter': 150, 'penalty': 'l2'}   \n",
      "43                1  {'C': 0.05, 'max_iter': 250, 'penalty': 'l2'}   \n",
      "45                1  {'C': 0.05, 'max_iter': 300, 'penalty': 'l2'}   \n",
      "\n",
      "    mean_test_score  \n",
      "41         0.748872  \n",
      "37         0.748872  \n",
      "39         0.748872  \n",
      "43         0.748872  \n",
      "45         0.748872  \n"
     ]
    },
    {
     "name": "stderr",
     "output_type": "stream",
     "text": [
      "[Parallel(n_jobs=-1)]: Done 420 out of 420 | elapsed:    6.2s finished\n"
     ]
    }
   ],
   "source": [
    "param_grid = {'penalty':['l1','l2'], \n",
    "              'C':[0.001,0.005,0.01,0.05,0.1,0.3,0.5], \n",
    "              'max_iter':[100,150,200,250,300,500]}\n",
    "\n",
    "log_clf = LogisticRegression(random_state = 42)\n",
    "log_grid = GridSearchCV(log_clf, param_grid=param_grid,scoring = 'accuracy',verbose = 1,n_jobs =-1) \n",
    "log_grid.fit(train_x, train_y)\n",
    "print(log_grid.best_score_,log_grid.best_params_)\n",
    "print(pd.DataFrame(log_grid.cv_results_).sort_values(by='rank_test_score')[['rank_test_score','params','mean_test_score']][:5])"
   ]
  },
  {
   "cell_type": "code",
   "execution_count": 37,
   "id": "a830a655",
   "metadata": {},
   "outputs": [
    {
     "name": "stdout",
     "output_type": "stream",
     "text": [
      "Accuracy: 70.52631578947368 %\n"
     ]
    }
   ],
   "source": [
    "log_pred = log_grid.best_estimator_.predict(test_x)\n",
    "print('Accuracy:', accuracy_score(test_y, log_pred)*100, '%')"
   ]
  },
  {
   "cell_type": "code",
   "execution_count": null,
   "id": "5e75b380",
   "metadata": {},
   "outputs": [],
   "source": []
  },
  {
   "cell_type": "code",
   "execution_count": null,
   "id": "328f72cb",
   "metadata": {},
   "outputs": [],
   "source": []
  },
  {
   "cell_type": "code",
   "execution_count": null,
   "id": "a7a59e85",
   "metadata": {},
   "outputs": [],
   "source": []
  },
  {
   "cell_type": "code",
   "execution_count": null,
   "id": "5b8d1305",
   "metadata": {},
   "outputs": [],
   "source": []
  },
  {
   "cell_type": "code",
   "execution_count": null,
   "id": "5e3e0837",
   "metadata": {},
   "outputs": [],
   "source": []
  },
  {
   "cell_type": "code",
   "execution_count": null,
   "id": "edc62afc",
   "metadata": {},
   "outputs": [],
   "source": []
  },
  {
   "cell_type": "code",
   "execution_count": null,
   "id": "4c3b9437",
   "metadata": {},
   "outputs": [],
   "source": []
  },
  {
   "cell_type": "code",
   "execution_count": null,
   "id": "b0cbb316",
   "metadata": {},
   "outputs": [],
   "source": []
  },
  {
   "cell_type": "code",
   "execution_count": null,
   "id": "b4d5264b",
   "metadata": {},
   "outputs": [],
   "source": []
  },
  {
   "cell_type": "code",
   "execution_count": null,
   "id": "2e485922",
   "metadata": {},
   "outputs": [],
   "source": []
  }
 ],
 "metadata": {
  "kernelspec": {
   "display_name": "Python 3",
   "language": "python",
   "name": "python3"
  },
  "language_info": {
   "codemirror_mode": {
    "name": "ipython",
    "version": 3
   },
   "file_extension": ".py",
   "mimetype": "text/x-python",
   "name": "python",
   "nbconvert_exporter": "python",
   "pygments_lexer": "ipython3",
   "version": "3.8.5"
  }
 },
 "nbformat": 4,
 "nbformat_minor": 5
}
