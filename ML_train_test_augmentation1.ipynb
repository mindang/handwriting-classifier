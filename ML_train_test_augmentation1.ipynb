{
 "cells": [
  {
   "cell_type": "markdown",
   "id": "9b5064a6",
   "metadata": {},
   "source": [
    "원본 + 4컷 ->벡터 추출 / test는 원본으로만"
   ]
  },
  {
   "cell_type": "code",
   "execution_count": 42,
   "id": "07bfd2d3",
   "metadata": {},
   "outputs": [],
   "source": [
    "import numpy as np\n",
    "import pandas as pd\n",
    "import cv2 \n",
    "from PIL import Image\n",
    "import seaborn as sns\n",
    "from tqdm import tqdm\n",
    "import tensorflow as tf\n",
    "\n",
    "from sklearn.model_selection import GridSearchCV\n",
    "from sklearn.model_selection import train_test_split\n",
    "from sklearn.preprocessing import MinMaxScaler, StandardScaler\n",
    "from sklearn.preprocessing import normalize\n",
    "from sklearn.ensemble import RandomForestClassifier\n",
    "import pickle\n",
    "from sklearn.svm import SVC\n",
    "from sklearn.metrics import accuracy_score\n",
    "from sklearn.model_selection import train_test_split\n",
    "import xgboost as xgb\n",
    "from sklearn.linear_model import LogisticRegression"
   ]
  },
  {
   "cell_type": "code",
   "execution_count": 43,
   "id": "57fb436d",
   "metadata": {},
   "outputs": [
    {
     "data": {
      "text/plain": [
       "((1900, 138), (1900,), (7600, 138))"
      ]
     },
     "execution_count": 43,
     "metadata": {},
     "output_type": "execute_result"
    }
   ],
   "source": [
    "y = np.load('new_y.npy')\n",
    "x = np.load('new_cut_feature.npy')\n",
    "x_ag = np.load('new_cut_4cutting_feature.npy')\n",
    "x.shape , y.shape , x_ag.shape"
   ]
  },
  {
   "cell_type": "code",
   "execution_count": 44,
   "id": "90bafab4",
   "metadata": {},
   "outputs": [
    {
     "name": "stdout",
     "output_type": "stream",
     "text": [
      "(950, 138) (950, 138) (950,) (950,)\n"
     ]
    }
   ],
   "source": [
    "x_ar = []\n",
    "x_en = []\n",
    "\n",
    "y_ar = []\n",
    "y_en = []\n",
    "for i,v in enumerate(x):\n",
    "    if i%4<2:\n",
    "        x_ar.append(v)\n",
    "        y_ar.append(y[i])\n",
    "    else:\n",
    "        x_en.append(v)\n",
    "        y_en.append(y[i])\n",
    "        \n",
    "x_ar , y_ar , x_en , y_en= np.array(x_ar),np.array(y_ar),np.array(x_en),np.array(y_en)\n",
    "\n",
    "print(x_ar.shape , x_en.shape , y_ar.shape , y_en.shape)"
   ]
  },
  {
   "cell_type": "code",
   "execution_count": 45,
   "id": "b9a18313",
   "metadata": {},
   "outputs": [
    {
     "name": "stdout",
     "output_type": "stream",
     "text": [
      "(564, 138) (386, 138)\n",
      "(564,) (386,)\n",
      "(564, 138) (386, 138)\n",
      "(564,) (386,)\n",
      "(1128, 138) (772, 138)\n",
      "(1128,) (772,)\n"
     ]
    }
   ],
   "source": [
    "#train test = 282 : 193\n",
    "\n",
    "#아랍 데이터 나누기\n",
    "x_train_ar , x_test_ar = x_ar[:564] , x_ar[564:]\n",
    "y_train_ar , y_test_ar = y_ar[:564] , y_ar[564:]\n",
    "\n",
    "\n",
    "#영어 데이터 나누기\n",
    "x_train_en , x_test_en = x_en[:564] , x_en[564:]\n",
    "y_train_en , y_test_en = y_en[:564] , y_en[564:]\n",
    "\n",
    "\n",
    "#영아 + 아랍 데이터\n",
    "x_train_all = np.concatenate((x_train_ar,x_train_en),axis=0)\n",
    "x_test_all =  np.concatenate((x_test_ar,x_test_en),axis=0)\n",
    "\n",
    "y_train_all = np.concatenate((y_train_ar,y_train_en),axis=0)\n",
    "y_test_all = np.concatenate((y_test_ar,y_test_en),axis=0)\n",
    "\n",
    "print(x_train_ar.shape , x_test_ar.shape)\n",
    "print(y_train_ar.shape , y_test_ar.shape)\n",
    "\n",
    "print(x_train_en.shape , x_test_en.shape)\n",
    "print(y_train_en.shape , y_test_en.shape)\n",
    "      \n",
    "print(x_train_all.shape , x_test_all.shape)\n",
    "print(y_train_all.shape , y_test_all.shape)"
   ]
  },
  {
   "cell_type": "code",
   "execution_count": 46,
   "id": "a4fc92a2",
   "metadata": {
    "scrolled": true
   },
   "outputs": [
    {
     "name": "stdout",
     "output_type": "stream",
     "text": [
      "(2256, 138) (2256, 138)\n",
      "(2256,) (2256,)\n"
     ]
    }
   ],
   "source": [
    "#데이터 증강 나누기\n",
    "x_ag_ar , x_ag_en = [] , []\n",
    "y_ag_ar , y_ag_en = [] , []\n",
    "\n",
    "for i , v in enumerate(x_ag[:4512]):\n",
    "    idx = i//4 #몇번째 사람인지\n",
    "    if i%16 < 8:\n",
    "        x_ag_ar.append(v)\n",
    "        y_ag_ar.append(y[idx])\n",
    "    else:\n",
    "        x_ag_en.append(v)\n",
    "        y_ag_en.append(y[idx])\n",
    "        \n",
    "x_ag_ar , x_ag_en = np.array(x_ag_ar) , np.array(x_ag_en)\n",
    "y_ag_ar , y_ag_en = np.array(y_ag_ar) , np.array(y_ag_en)\n",
    "print(x_ag_ar.shape , x_ag_en.shape)\n",
    "print(y_ag_ar.shape , y_ag_en.shape)"
   ]
  },
  {
   "cell_type": "code",
   "execution_count": 47,
   "id": "5bb3acef",
   "metadata": {},
   "outputs": [
    {
     "name": "stdout",
     "output_type": "stream",
     "text": [
      "(2820, 138) (386, 138)\n",
      "(2820,) (386,)\n",
      "(2820, 138) (386, 138)\n",
      "(2820,) (386,)\n",
      "(5640, 138) (772, 138)\n",
      "(5640,) (772,)\n"
     ]
    }
   ],
   "source": [
    "#원본 + 증강 합치기\n",
    "x_train_ar = np.concatenate((x_train_ar,x_ag_ar),axis=0)\n",
    "y_train_ar = np.concatenate((y_train_ar,y_ag_ar),axis=0)\n",
    "\n",
    "x_train_en = np.concatenate((x_train_en,x_ag_en),axis=0)\n",
    "y_train_en = np.concatenate((y_train_en,y_ag_en),axis=0)\n",
    "\n",
    "x_train_all = np.concatenate((x_train_ar,x_train_en),axis=0)\n",
    "y_train_all = np.concatenate((y_train_ar,y_train_en),axis=0)\n",
    "\n",
    "print(x_train_ar.shape , x_test_ar.shape)\n",
    "print(y_train_ar.shape , y_test_ar.shape)\n",
    "\n",
    "print(x_train_en.shape , x_test_en.shape)\n",
    "print(y_train_en.shape , y_test_en.shape)\n",
    "      \n",
    "print(x_train_all.shape , x_test_all.shape)\n",
    "print(y_train_all.shape , y_test_all.shape)"
   ]
  },
  {
   "cell_type": "code",
   "execution_count": null,
   "id": "a9cabcc0",
   "metadata": {},
   "outputs": [],
   "source": []
  },
  {
   "cell_type": "code",
   "execution_count": null,
   "id": "94e6215c",
   "metadata": {},
   "outputs": [],
   "source": []
  },
  {
   "cell_type": "code",
   "execution_count": null,
   "id": "359d3aa2",
   "metadata": {},
   "outputs": [],
   "source": []
  },
  {
   "cell_type": "code",
   "execution_count": 112,
   "id": "ffafa9de",
   "metadata": {},
   "outputs": [
    {
     "name": "stdout",
     "output_type": "stream",
     "text": [
      "False False False False\n",
      "True True True True\n",
      "train data length: 2820 , 2820\n",
      "test data length: 386 , 386\n"
     ]
    }
   ],
   "source": [
    "#Case마다 여기서 변경\n",
    "train_x = x_train_ar\n",
    "test_x = x_test_ar\n",
    "\n",
    "train_y = y_train_ar\n",
    "test_y = y_test_ar\n",
    "\n",
    "cs = StandardScaler()\n",
    "train_x = cs.fit_transform(train_x)\n",
    "test_x = cs.transform(test_x)\n",
    "\n",
    "\n",
    "\n",
    "#모두 False나와야 함\n",
    "print(np.isnan(train_x).all(),np.isnan(test_x).all(),\n",
    "      np.isnan(train_y).all(),np.isnan(test_y).all())\n",
    "#모두 True 나와야 함\n",
    "print(np.isfinite(train_x).all(),np.isfinite(test_x).all(),\n",
    "      np.isfinite(train_y).all(),np.isfinite(test_y).all())\n",
    "\n",
    "print(f'train data length: {len(train_x)} , {len(train_y)}')\n",
    "print(f'test data length: {len(test_x)} , {len(test_y)}')"
   ]
  },
  {
   "cell_type": "code",
   "execution_count": null,
   "id": "e427a7cc",
   "metadata": {},
   "outputs": [],
   "source": []
  },
  {
   "cell_type": "markdown",
   "id": "a1a08a77",
   "metadata": {},
   "source": [
    "SVM"
   ]
  },
  {
   "cell_type": "code",
   "execution_count": 96,
   "id": "87bb06fc",
   "metadata": {},
   "outputs": [],
   "source": [
    "pd.set_option('display.max.colwidth', 100)"
   ]
  },
  {
   "cell_type": "code",
   "execution_count": 97,
   "id": "542120cc",
   "metadata": {},
   "outputs": [
    {
     "name": "stdout",
     "output_type": "stream",
     "text": [
      "Fitting 5 folds for each of 180 candidates, totalling 900 fits\n"
     ]
    },
    {
     "name": "stderr",
     "output_type": "stream",
     "text": [
      "[Parallel(n_jobs=-1)]: Using backend LokyBackend with 16 concurrent workers.\n",
      "[Parallel(n_jobs=-1)]: Done  18 tasks      | elapsed:   10.6s\n",
      "[Parallel(n_jobs=-1)]: Done 168 tasks      | elapsed:   32.3s\n",
      "[Parallel(n_jobs=-1)]: Done 418 tasks      | elapsed:  1.1min\n",
      "[Parallel(n_jobs=-1)]: Done 768 tasks      | elapsed:  1.9min\n",
      "[Parallel(n_jobs=-1)]: Done 900 out of 900 | elapsed:  2.2min finished\n"
     ]
    },
    {
     "name": "stdout",
     "output_type": "stream",
     "text": [
      "0.8815602836879431 {'C': 12, 'gamma': 0.01, 'kernel': 'rbf'}\n",
      "     rank_test_score                                        params  \\\n",
      "141                1     {'C': 12, 'gamma': 0.01, 'kernel': 'rbf'}   \n",
      "177                1     {'C': 15, 'gamma': 0.01, 'kernel': 'rbf'}   \n",
      "157                1  {'C': 14, 'gamma': 'scale', 'kernel': 'rbf'}   \n",
      "169                1  {'C': 15, 'gamma': 'scale', 'kernel': 'rbf'}   \n",
      "165                1     {'C': 14, 'gamma': 0.01, 'kernel': 'rbf'}   \n",
      "\n",
      "     mean_test_score  \n",
      "141          0.88156  \n",
      "177          0.88156  \n",
      "157          0.88156  \n",
      "169          0.88156  \n",
      "165          0.88156  \n"
     ]
    }
   ],
   "source": [
    "param_grid = {'kernel':['rbf'], 'C':[1,2,3,4,5,6,7,8,9,10,11,12,13,14,15], \n",
    "              'gamma':['auto','scale',0.0001,0.0005,0.001,0.002,0,0.005,0.007,0.01,0.02,0.05]}\n",
    "\n",
    "svm_clf = SVC(random_state=100)\n",
    "grid = GridSearchCV(svm_clf, param_grid=param_grid,scoring = 'accuracy',verbose = 1,n_jobs =-1) \n",
    "grid.fit(train_x, train_y)\n",
    "\n",
    "print(grid.best_score_,grid.best_params_)\n",
    "print(pd.DataFrame(grid.cv_results_).sort_values(by='rank_test_score')[['rank_test_score','params','mean_test_score']][:5])"
   ]
  },
  {
   "cell_type": "code",
   "execution_count": 113,
   "id": "db780e53",
   "metadata": {},
   "outputs": [
    {
     "name": "stdout",
     "output_type": "stream",
     "text": [
      "Accuracy: 71.50259067357513 %\n"
     ]
    }
   ],
   "source": [
    "svm_pred = grid.best_estimator_.predict(test_x)\n",
    "print('Accuracy:', accuracy_score(test_y, svm_pred)*100, '%')"
   ]
  },
  {
   "cell_type": "code",
   "execution_count": null,
   "id": "3360dc36",
   "metadata": {},
   "outputs": [],
   "source": []
  },
  {
   "cell_type": "markdown",
   "id": "a8223fac",
   "metadata": {},
   "source": [
    "rf"
   ]
  },
  {
   "cell_type": "code",
   "execution_count": 105,
   "id": "3b3c79ac",
   "metadata": {},
   "outputs": [
    {
     "name": "stdout",
     "output_type": "stream",
     "text": [
      "Fitting 5 folds for each of 36 candidates, totalling 180 fits\n"
     ]
    },
    {
     "name": "stderr",
     "output_type": "stream",
     "text": [
      "[Parallel(n_jobs=-1)]: Using backend LokyBackend with 16 concurrent workers.\n",
      "[Parallel(n_jobs=-1)]: Done  18 tasks      | elapsed:   10.9s\n",
      "[Parallel(n_jobs=-1)]: Done 180 out of 180 | elapsed:  1.1min finished\n"
     ]
    },
    {
     "name": "stdout",
     "output_type": "stream",
     "text": [
      "0.7624113475177304 {'max_depth': 20, 'min_samples_leaf': 1, 'min_samples_split': 2, 'n_estimators': 320}\n",
      "                                                                                   params  \\\n",
      "14  {'max_depth': 20, 'min_samples_leaf': 1, 'min_samples_split': 2, 'n_estimators': 320}   \n",
      "13  {'max_depth': 20, 'min_samples_leaf': 1, 'min_samples_split': 2, 'n_estimators': 310}   \n",
      "12  {'max_depth': 20, 'min_samples_leaf': 1, 'min_samples_split': 2, 'n_estimators': 300}   \n",
      "29  {'max_depth': 21, 'min_samples_leaf': 1, 'min_samples_split': 3, 'n_estimators': 320}   \n",
      "27  {'max_depth': 21, 'min_samples_leaf': 1, 'min_samples_split': 3, 'n_estimators': 300}   \n",
      "\n",
      "    mean_test_score  \n",
      "14         0.762411  \n",
      "13         0.762057  \n",
      "12         0.761702  \n",
      "29         0.759574  \n",
      "27         0.759220  \n"
     ]
    }
   ],
   "source": [
    "rf_param_grid = {\n",
    "    'n_estimators' : [300,310,320],\n",
    "    'max_depth' : [19,20,21],      #default : \" None\",\n",
    "    'min_samples_leaf' : [1,2],     #default : 1\n",
    "    'min_samples_split' : [2,3]  #default : 2\n",
    "}\n",
    "\n",
    "rf_clf = RandomForestClassifier(random_state=42)\n",
    "rf_grid = GridSearchCV(rf_clf, param_grid=rf_param_grid,scoring = 'accuracy',verbose = 1,n_jobs =-1) \n",
    "rf_grid.fit(train_x, train_y)\n",
    "\n",
    "print(rf_grid.best_score_,rf_grid.best_params_)\n",
    "rf_df = pd.DataFrame(rf_grid.cv_results_).sort_values(by='rank_test_score')\n",
    "print(rf_df[['params','mean_test_score']][:5])"
   ]
  },
  {
   "cell_type": "code",
   "execution_count": 114,
   "id": "da93d60c",
   "metadata": {},
   "outputs": [
    {
     "name": "stdout",
     "output_type": "stream",
     "text": [
      "Accuracy: 70.98445595854922 %\n"
     ]
    }
   ],
   "source": [
    "rf_pred = rf_grid.best_estimator_.predict(test_x)\n",
    "print('Accuracy:', accuracy_score(test_y, rf_pred)*100, '%')"
   ]
  },
  {
   "cell_type": "code",
   "execution_count": null,
   "id": "04351680",
   "metadata": {},
   "outputs": [],
   "source": []
  },
  {
   "cell_type": "code",
   "execution_count": null,
   "id": "3455d225",
   "metadata": {},
   "outputs": [],
   "source": []
  },
  {
   "cell_type": "markdown",
   "id": "bca3561e",
   "metadata": {},
   "source": [
    "XGB"
   ]
  },
  {
   "cell_type": "code",
   "execution_count": 101,
   "id": "e9e928a1",
   "metadata": {},
   "outputs": [
    {
     "name": "stdout",
     "output_type": "stream",
     "text": [
      "Fitting 5 folds for each of 24 candidates, totalling 120 fits\n"
     ]
    },
    {
     "name": "stderr",
     "output_type": "stream",
     "text": [
      "[Parallel(n_jobs=-1)]: Using backend LokyBackend with 16 concurrent workers.\n",
      "[Parallel(n_jobs=-1)]: Done  18 tasks      | elapsed:   34.8s\n",
      "[Parallel(n_jobs=-1)]: Done 120 out of 120 | elapsed:  2.6min finished\n"
     ]
    },
    {
     "name": "stdout",
     "output_type": "stream",
     "text": [
      "0.7776595744680851 {'colsample_bytree': 0.7, 'learning_rate': 0.1, 'max_depth': 7, 'n_estimators': 310}\n",
      "                                                                                   params  \\\n",
      "0    {'colsample_bytree': 0.7, 'learning_rate': 0.1, 'max_depth': 7, 'n_estimators': 310}   \n",
      "14   {'colsample_bytree': 0.9, 'learning_rate': 0.1, 'max_depth': 8, 'n_estimators': 310}   \n",
      "1    {'colsample_bytree': 0.7, 'learning_rate': 0.1, 'max_depth': 7, 'n_estimators': 320}   \n",
      "15   {'colsample_bytree': 0.9, 'learning_rate': 0.1, 'max_depth': 8, 'n_estimators': 320}   \n",
      "22  {'colsample_bytree': 0.9, 'learning_rate': 0.15, 'max_depth': 9, 'n_estimators': 310}   \n",
      "\n",
      "    mean_test_score  \n",
      "0          0.777660  \n",
      "14         0.777660  \n",
      "1          0.777305  \n",
      "15         0.776950  \n",
      "22         0.776950  \n"
     ]
    }
   ],
   "source": [
    "xgb_param={\n",
    "    'n_estimators' : [310,320],\n",
    "    'learning_rate' : [0.1,0.15],\n",
    "    'max_depth' : [7,8,9],\n",
    "    #'gamma' : [0],\n",
    "    'colsample_bytree' : [0.7,0.9],\n",
    "    \n",
    "}\n",
    "xgb_clf= xgb.XGBClassifier(random_state=42)#tree_method='gpu_hist', gpu_id=0,\n",
    "xgb_grid = GridSearchCV(xgb_clf, param_grid=xgb_param,scoring = 'accuracy',verbose = 1,n_jobs =-1) \n",
    "xgb_grid.fit(train_x, train_y)\n",
    "\n",
    "print(xgb_grid.best_score_,xgb_grid.best_params_)\n",
    "xgb_df = pd.DataFrame(xgb_grid.cv_results_).sort_values(by='rank_test_score')\n",
    "print(xgb_df[['params','mean_test_score']][:5])"
   ]
  },
  {
   "cell_type": "code",
   "execution_count": 115,
   "id": "7db5896b",
   "metadata": {},
   "outputs": [
    {
     "name": "stdout",
     "output_type": "stream",
     "text": [
      "Accuracy: 71.24352331606218 %\n"
     ]
    }
   ],
   "source": [
    "xgb_pred = xgb_grid.best_estimator_.predict(test_x)\n",
    "print('Accuracy:', accuracy_score(test_y, xgb_pred)*100, '%')"
   ]
  },
  {
   "cell_type": "code",
   "execution_count": null,
   "id": "fd78e560",
   "metadata": {},
   "outputs": [],
   "source": []
  },
  {
   "cell_type": "markdown",
   "id": "8bae0502",
   "metadata": {},
   "source": [
    "Logistic regression"
   ]
  },
  {
   "cell_type": "code",
   "execution_count": 103,
   "id": "08859041",
   "metadata": {},
   "outputs": [
    {
     "name": "stdout",
     "output_type": "stream",
     "text": [
      "Fitting 5 folds for each of 84 candidates, totalling 420 fits\n"
     ]
    },
    {
     "name": "stderr",
     "output_type": "stream",
     "text": [
      "[Parallel(n_jobs=-1)]: Using backend LokyBackend with 16 concurrent workers.\n",
      "[Parallel(n_jobs=-1)]: Done  18 tasks      | elapsed:    0.0s\n",
      "[Parallel(n_jobs=-1)]: Done 389 out of 420 | elapsed:    3.4s remaining:    0.2s\n"
     ]
    },
    {
     "name": "stdout",
     "output_type": "stream",
     "text": [
      "0.7375886524822695 {'C': 0.01, 'max_iter': 100, 'penalty': 'l2'}\n",
      "    rank_test_score                                         params  \\\n",
      "35                1  {'C': 0.01, 'max_iter': 500, 'penalty': 'l2'}   \n",
      "31                1  {'C': 0.01, 'max_iter': 250, 'penalty': 'l2'}   \n",
      "29                1  {'C': 0.01, 'max_iter': 200, 'penalty': 'l2'}   \n",
      "27                1  {'C': 0.01, 'max_iter': 150, 'penalty': 'l2'}   \n",
      "25                1  {'C': 0.01, 'max_iter': 100, 'penalty': 'l2'}   \n",
      "\n",
      "    mean_test_score  \n",
      "35         0.737589  \n",
      "31         0.737589  \n",
      "29         0.737589  \n",
      "27         0.737589  \n",
      "25         0.737589  \n"
     ]
    },
    {
     "name": "stderr",
     "output_type": "stream",
     "text": [
      "[Parallel(n_jobs=-1)]: Done 420 out of 420 | elapsed:    3.7s finished\n"
     ]
    }
   ],
   "source": [
    "param_grid = {'penalty':['l1','l2'], \n",
    "              'C':[0.001,0.005,0.01,0.05,0.1,0.3,0.5], \n",
    "              'max_iter':[100,150,200,250,300,500]}\n",
    "\n",
    "log_clf = LogisticRegression(random_state = 42)\n",
    "log_grid = GridSearchCV(log_clf, param_grid=param_grid,scoring = 'accuracy',verbose = 1,n_jobs =-1) \n",
    "log_grid.fit(train_x, train_y)\n",
    "print(log_grid.best_score_,log_grid.best_params_)\n",
    "print(pd.DataFrame(log_grid.cv_results_).sort_values(by='rank_test_score')[['rank_test_score','params','mean_test_score']][:5])"
   ]
  },
  {
   "cell_type": "code",
   "execution_count": 117,
   "id": "c0344294",
   "metadata": {},
   "outputs": [
    {
     "name": "stdout",
     "output_type": "stream",
     "text": [
      "Accuracy: 68.13471502590673 %\n"
     ]
    }
   ],
   "source": [
    "log_pred = log_grid.best_estimator_.predict(test_x)\n",
    "print('Accuracy:', accuracy_score(test_y, log_pred)*100, '%')"
   ]
  },
  {
   "cell_type": "code",
   "execution_count": null,
   "id": "08a7e472",
   "metadata": {},
   "outputs": [],
   "source": []
  },
  {
   "cell_type": "code",
   "execution_count": null,
   "id": "f9af5284",
   "metadata": {},
   "outputs": [],
   "source": []
  },
  {
   "cell_type": "code",
   "execution_count": null,
   "id": "32494e8e",
   "metadata": {},
   "outputs": [],
   "source": []
  },
  {
   "cell_type": "code",
   "execution_count": null,
   "id": "1bde9171",
   "metadata": {},
   "outputs": [],
   "source": []
  },
  {
   "cell_type": "code",
   "execution_count": null,
   "id": "ee4f329d",
   "metadata": {},
   "outputs": [],
   "source": []
  },
  {
   "cell_type": "code",
   "execution_count": null,
   "id": "95589d3e",
   "metadata": {},
   "outputs": [],
   "source": []
  },
  {
   "cell_type": "code",
   "execution_count": null,
   "id": "5dddb83f",
   "metadata": {},
   "outputs": [],
   "source": []
  },
  {
   "cell_type": "code",
   "execution_count": null,
   "id": "ce4d59d8",
   "metadata": {},
   "outputs": [],
   "source": []
  },
  {
   "cell_type": "code",
   "execution_count": null,
   "id": "845023b0",
   "metadata": {},
   "outputs": [],
   "source": []
  },
  {
   "cell_type": "code",
   "execution_count": null,
   "id": "17d61c16",
   "metadata": {},
   "outputs": [],
   "source": []
  },
  {
   "cell_type": "code",
   "execution_count": null,
   "id": "a79dd0a0",
   "metadata": {},
   "outputs": [],
   "source": []
  },
  {
   "cell_type": "code",
   "execution_count": null,
   "id": "df0a284d",
   "metadata": {},
   "outputs": [],
   "source": []
  }
 ],
 "metadata": {
  "kernelspec": {
   "display_name": "Python 3",
   "language": "python",
   "name": "python3"
  },
  "language_info": {
   "codemirror_mode": {
    "name": "ipython",
    "version": 3
   },
   "file_extension": ".py",
   "mimetype": "text/x-python",
   "name": "python",
   "nbconvert_exporter": "python",
   "pygments_lexer": "ipython3",
   "version": "3.8.5"
  }
 },
 "nbformat": 4,
 "nbformat_minor": 5
}
