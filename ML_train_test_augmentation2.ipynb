{
 "cells": [
  {
   "cell_type": "markdown",
   "id": "be8e27e2",
   "metadata": {},
   "source": [
    "원본 + 좌우상하 반전 ->벡터 추출 / test는 원본으로만"
   ]
  },
  {
   "cell_type": "code",
   "execution_count": 1,
   "id": "aeff3b93",
   "metadata": {},
   "outputs": [],
   "source": [
    "import numpy as np\n",
    "import pandas as pd\n",
    "import cv2 \n",
    "from PIL import Image\n",
    "import seaborn as sns\n",
    "from tqdm import tqdm\n",
    "import tensorflow as tf\n",
    "\n",
    "from sklearn.model_selection import GridSearchCV\n",
    "from sklearn.model_selection import train_test_split\n",
    "from sklearn.preprocessing import MinMaxScaler, StandardScaler\n",
    "from sklearn.preprocessing import normalize\n",
    "from sklearn.ensemble import RandomForestClassifier\n",
    "import pickle\n",
    "from sklearn.svm import SVC\n",
    "from sklearn.metrics import accuracy_score\n",
    "from sklearn.model_selection import train_test_split\n",
    "import xgboost as xgb\n",
    "from sklearn.linear_model import LogisticRegression"
   ]
  },
  {
   "cell_type": "code",
   "execution_count": 2,
   "id": "39555bdb",
   "metadata": {},
   "outputs": [
    {
     "data": {
      "text/plain": [
       "((1900, 138), (1900,), (3800, 138))"
      ]
     },
     "execution_count": 2,
     "metadata": {},
     "output_type": "execute_result"
    }
   ],
   "source": [
    "y = np.load('new_y.npy')\n",
    "x = np.load('new_cut_feature.npy')\n",
    "x_ag = np.load('new_cut_transpose_feature.npy')\n",
    "x.shape , y.shape , x_ag.shape"
   ]
  },
  {
   "cell_type": "code",
   "execution_count": 3,
   "id": "0cc0b9b4",
   "metadata": {},
   "outputs": [
    {
     "name": "stdout",
     "output_type": "stream",
     "text": [
      "(950, 138) (950, 138) (950,) (950,)\n"
     ]
    }
   ],
   "source": [
    "x_ar = []\n",
    "x_en = []\n",
    "\n",
    "y_ar = []\n",
    "y_en = []\n",
    "for i,v in enumerate(x):\n",
    "    if i%4<2:\n",
    "        x_ar.append(v)\n",
    "        y_ar.append(y[i])\n",
    "    else:\n",
    "        x_en.append(v)\n",
    "        y_en.append(y[i])\n",
    "        \n",
    "x_ar , y_ar , x_en , y_en= np.array(x_ar),np.array(y_ar),np.array(x_en),np.array(y_en)\n",
    "\n",
    "print(x_ar.shape , x_en.shape , y_ar.shape , y_en.shape)"
   ]
  },
  {
   "cell_type": "code",
   "execution_count": 4,
   "id": "3bbba048",
   "metadata": {},
   "outputs": [
    {
     "name": "stdout",
     "output_type": "stream",
     "text": [
      "(564, 138) (386, 138)\n",
      "(564,) (386,)\n",
      "(564, 138) (386, 138)\n",
      "(564,) (386,)\n",
      "(1128, 138) (772, 138)\n",
      "(1128,) (772,)\n"
     ]
    }
   ],
   "source": [
    "#train test = 282 : 193\n",
    "\n",
    "#아랍 데이터 나누기\n",
    "x_train_ar , x_test_ar = x_ar[:564] , x_ar[564:]\n",
    "y_train_ar , y_test_ar = y_ar[:564] , y_ar[564:]\n",
    "\n",
    "\n",
    "#영어 데이터 나누기\n",
    "x_train_en , x_test_en = x_en[:564] , x_en[564:]\n",
    "y_train_en , y_test_en = y_en[:564] , y_en[564:]\n",
    "\n",
    "\n",
    "#영아 + 아랍 데이터\n",
    "x_train_all = np.concatenate((x_train_ar,x_train_en),axis=0)\n",
    "x_test_all =  np.concatenate((x_test_ar,x_test_en),axis=0)\n",
    "\n",
    "y_train_all = np.concatenate((y_train_ar,y_train_en),axis=0)\n",
    "y_test_all = np.concatenate((y_test_ar,y_test_en),axis=0)\n",
    "\n",
    "print(x_train_ar.shape , x_test_ar.shape)\n",
    "print(y_train_ar.shape , y_test_ar.shape)\n",
    "\n",
    "print(x_train_en.shape , x_test_en.shape)\n",
    "print(y_train_en.shape , y_test_en.shape)\n",
    "      \n",
    "print(x_train_all.shape , x_test_all.shape)\n",
    "print(y_train_all.shape , y_test_all.shape)"
   ]
  },
  {
   "cell_type": "code",
   "execution_count": 5,
   "id": "bb5fe08c",
   "metadata": {
    "scrolled": true
   },
   "outputs": [
    {
     "name": "stdout",
     "output_type": "stream",
     "text": [
      "(1128, 138) (1128, 138)\n",
      "(1128,) (1128,)\n"
     ]
    }
   ],
   "source": [
    "#데이터 증강 나누기\n",
    "x_ag_ar , x_ag_en = [] , []\n",
    "y_ag_ar , y_ag_en = [] , []\n",
    "\n",
    "for i , v in enumerate(x_ag[:2256]):\n",
    "    idx = i//2 #몇번째 사람인지\n",
    "    if i%8 < 4:\n",
    "        x_ag_ar.append(v)\n",
    "        y_ag_ar.append(y[idx])\n",
    "    else:\n",
    "        x_ag_en.append(v)\n",
    "        y_ag_en.append(y[idx])\n",
    "        \n",
    "x_ag_ar , x_ag_en = np.array(x_ag_ar) , np.array(x_ag_en)\n",
    "y_ag_ar , y_ag_en = np.array(y_ag_ar) , np.array(y_ag_en)\n",
    "print(x_ag_ar.shape , x_ag_en.shape)\n",
    "print(y_ag_ar.shape , y_ag_en.shape)"
   ]
  },
  {
   "cell_type": "code",
   "execution_count": 6,
   "id": "c09e416d",
   "metadata": {},
   "outputs": [
    {
     "name": "stdout",
     "output_type": "stream",
     "text": [
      "(1692, 138) (386, 138)\n",
      "(1692,) (386,)\n",
      "(1692, 138) (386, 138)\n",
      "(1692,) (386,)\n",
      "(3384, 138) (772, 138)\n",
      "(3384,) (772,)\n"
     ]
    }
   ],
   "source": [
    "#원본 + 증강 합치기\n",
    "x_train_ar = np.concatenate((x_train_ar,x_ag_ar),axis=0)\n",
    "y_train_ar = np.concatenate((y_train_ar,y_ag_ar),axis=0)\n",
    "\n",
    "x_train_en = np.concatenate((x_train_en,x_ag_en),axis=0)\n",
    "y_train_en = np.concatenate((y_train_en,y_ag_en),axis=0)\n",
    "\n",
    "x_train_all = np.concatenate((x_train_ar,x_train_en),axis=0)\n",
    "y_train_all = np.concatenate((y_train_ar,y_train_en),axis=0)\n",
    "\n",
    "print(x_train_ar.shape , x_test_ar.shape)\n",
    "print(y_train_ar.shape , y_test_ar.shape)\n",
    "\n",
    "print(x_train_en.shape , x_test_en.shape)\n",
    "print(y_train_en.shape , y_test_en.shape)\n",
    "      \n",
    "print(x_train_all.shape , x_test_all.shape)\n",
    "print(y_train_all.shape , y_test_all.shape)"
   ]
  },
  {
   "cell_type": "code",
   "execution_count": null,
   "id": "63eef2ae",
   "metadata": {},
   "outputs": [],
   "source": []
  },
  {
   "cell_type": "code",
   "execution_count": null,
   "id": "5e017738",
   "metadata": {},
   "outputs": [],
   "source": []
  },
  {
   "cell_type": "code",
   "execution_count": null,
   "id": "84ff6cc2",
   "metadata": {},
   "outputs": [],
   "source": []
  },
  {
   "cell_type": "code",
   "execution_count": 7,
   "id": "000410a7",
   "metadata": {},
   "outputs": [
    {
     "name": "stdout",
     "output_type": "stream",
     "text": [
      "False False False False\n",
      "True True True True\n",
      "train data length: 3384 , 3384\n",
      "test data length: 772 , 772\n"
     ]
    }
   ],
   "source": [
    "#Case마다 여기서 변경\n",
    "train_x = x_train_all\n",
    "test_x = x_test_all\n",
    "\n",
    "train_y = y_train_all\n",
    "test_y = y_test_all\n",
    "\n",
    "cs = StandardScaler()\n",
    "train_x = cs.fit_transform(train_x)\n",
    "test_x = cs.transform(test_x)\n",
    "\n",
    "\n",
    "\n",
    "#모두 False나와야 함\n",
    "print(np.isnan(train_x).all(),np.isnan(test_x).all(),\n",
    "      np.isnan(train_y).all(),np.isnan(test_y).all())\n",
    "#모두 True 나와야 함\n",
    "print(np.isfinite(train_x).all(),np.isfinite(test_x).all(),\n",
    "      np.isfinite(train_y).all(),np.isfinite(test_y).all())\n",
    "\n",
    "print(f'train data length: {len(train_x)} , {len(train_y)}')\n",
    "print(f'test data length: {len(test_x)} , {len(test_y)}')"
   ]
  },
  {
   "cell_type": "code",
   "execution_count": null,
   "id": "fd75b79b",
   "metadata": {},
   "outputs": [],
   "source": []
  },
  {
   "cell_type": "markdown",
   "id": "02ea7a86",
   "metadata": {},
   "source": [
    "SVM"
   ]
  },
  {
   "cell_type": "code",
   "execution_count": 8,
   "id": "d985537b",
   "metadata": {},
   "outputs": [],
   "source": [
    "pd.set_option('display.max.colwidth', 100)"
   ]
  },
  {
   "cell_type": "code",
   "execution_count": 9,
   "id": "caba9d4e",
   "metadata": {},
   "outputs": [
    {
     "name": "stdout",
     "output_type": "stream",
     "text": [
      "Fitting 5 folds for each of 180 candidates, totalling 900 fits\n"
     ]
    },
    {
     "name": "stderr",
     "output_type": "stream",
     "text": [
      "[Parallel(n_jobs=-1)]: Using backend LokyBackend with 16 concurrent workers.\n",
      "[Parallel(n_jobs=-1)]: Done  18 tasks      | elapsed:   11.1s\n",
      "[Parallel(n_jobs=-1)]: Done 168 tasks      | elapsed:   47.3s\n",
      "[Parallel(n_jobs=-1)]: Done 418 tasks      | elapsed:  1.8min\n",
      "[Parallel(n_jobs=-1)]: Done 768 tasks      | elapsed:  3.1min\n",
      "[Parallel(n_jobs=-1)]: Done 900 out of 900 | elapsed:  3.6min finished\n"
     ]
    },
    {
     "name": "stdout",
     "output_type": "stream",
     "text": [
      "0.7361178362598655 {'C': 3, 'gamma': 0.002, 'kernel': 'rbf'}\n",
      "     rank_test_score                                      params  \\\n",
      "29                 1   {'C': 3, 'gamma': 0.002, 'kernel': 'rbf'}   \n",
      "89                 2   {'C': 8, 'gamma': 0.002, 'kernel': 'rbf'}   \n",
      "124                3  {'C': 11, 'gamma': 0.001, 'kernel': 'rbf'}   \n",
      "136                4  {'C': 12, 'gamma': 0.001, 'kernel': 'rbf'}   \n",
      "172                5  {'C': 15, 'gamma': 0.001, 'kernel': 'rbf'}   \n",
      "\n",
      "     mean_test_score  \n",
      "29          0.736118  \n",
      "89          0.735823  \n",
      "124         0.735527  \n",
      "136         0.735232  \n",
      "172         0.734937  \n"
     ]
    }
   ],
   "source": [
    "param_grid = {'kernel':['rbf'], 'C':[1,2,3,4,5,6,7,8,9,10,11,12,13,14,15], \n",
    "              'gamma':['auto','scale',0.0001,0.0005,0.001,0.002,0,0.005,0.007,0.01,0.02,0.05]}\n",
    "\n",
    "svm_clf = SVC(random_state=100)\n",
    "grid = GridSearchCV(svm_clf, param_grid=param_grid,scoring = 'accuracy',verbose = 1,n_jobs =-1) \n",
    "grid.fit(train_x, train_y)\n",
    "\n",
    "print(grid.best_score_,grid.best_params_)\n",
    "print(pd.DataFrame(grid.cv_results_).sort_values(by='rank_test_score')[['rank_test_score','params','mean_test_score']][:5])"
   ]
  },
  {
   "cell_type": "code",
   "execution_count": 10,
   "id": "5552081d",
   "metadata": {},
   "outputs": [
    {
     "name": "stdout",
     "output_type": "stream",
     "text": [
      "Accuracy: 70.85492227979275 %\n"
     ]
    }
   ],
   "source": [
    "svm_pred = grid.best_estimator_.predict(test_x)\n",
    "print('Accuracy:', accuracy_score(test_y, svm_pred)*100, '%')"
   ]
  },
  {
   "cell_type": "code",
   "execution_count": null,
   "id": "7e3c1d20",
   "metadata": {},
   "outputs": [],
   "source": []
  },
  {
   "cell_type": "markdown",
   "id": "930aafb7",
   "metadata": {},
   "source": [
    "rf"
   ]
  },
  {
   "cell_type": "code",
   "execution_count": null,
   "id": "c39470c9",
   "metadata": {},
   "outputs": [],
   "source": [
    "rf_param_grid = {\n",
    "    'n_estimators' : [280,290,300],\n",
    "    'max_depth' : [22,23],      #default : \" None\",\n",
    "    'min_samples_leaf' : [1,2],     #default : 1\n",
    "    'min_samples_split' : [2,3,4]  #default : 2\n",
    "}\n",
    "\n",
    "rf_clf = RandomForestClassifier(random_state=42)\n",
    "rf_grid = GridSearchCV(rf_clf, param_grid=rf_param_grid,scoring = 'accuracy',verbose = 1,n_jobs =-1) \n",
    "rf_grid.fit(train_x, train_y)\n",
    "\n",
    "print(rf_grid.best_score_,rf_grid.best_params_)\n",
    "rf_df = pd.DataFrame(rf_grid.cv_results_).sort_values(by='rank_test_score')\n",
    "print(rf_df[['params','mean_test_score']][:5])"
   ]
  },
  {
   "cell_type": "code",
   "execution_count": null,
   "id": "6b9cc7ea",
   "metadata": {},
   "outputs": [],
   "source": [
    "rf_pred = rf_grid.best_estimator_.predict(test_x)\n",
    "print('Accuracy:', accuracy_score(test_y, rf_pred)*100, '%')"
   ]
  },
  {
   "cell_type": "code",
   "execution_count": null,
   "id": "b37f1eee",
   "metadata": {},
   "outputs": [],
   "source": []
  },
  {
   "cell_type": "code",
   "execution_count": null,
   "id": "c3073fa9",
   "metadata": {},
   "outputs": [],
   "source": []
  },
  {
   "cell_type": "markdown",
   "id": "f7e9ae4a",
   "metadata": {},
   "source": [
    "XGB"
   ]
  },
  {
   "cell_type": "code",
   "execution_count": null,
   "id": "a959906c",
   "metadata": {},
   "outputs": [
    {
     "name": "stdout",
     "output_type": "stream",
     "text": [
      "Fitting 5 folds for each of 36 candidates, totalling 180 fits\n"
     ]
    },
    {
     "name": "stderr",
     "output_type": "stream",
     "text": [
      "[Parallel(n_jobs=-1)]: Using backend LokyBackend with 16 concurrent workers.\n",
      "[Parallel(n_jobs=-1)]: Done  18 tasks      | elapsed:   53.7s\n"
     ]
    }
   ],
   "source": [
    "xgb_param={\n",
    "    'n_estimators' : [310,320,330],\n",
    "    'learning_rate' : [0.1,0.15],\n",
    "    'max_depth' : [7,8,9],\n",
    "    #'gamma' : [0],\n",
    "    'colsample_bytree' : [0.8,0.9],\n",
    "    \n",
    "}\n",
    "xgb_clf= xgb.XGBClassifier(random_state=42)#tree_method='gpu_hist', gpu_id=0,\n",
    "xgb_grid = GridSearchCV(xgb_clf, param_grid=xgb_param,scoring = 'accuracy',verbose = 1,n_jobs =-1) \n",
    "xgb_grid.fit(train_x, train_y)\n",
    "\n",
    "print(xgb_grid.best_score_,xgb_grid.best_params_)\n",
    "xgb_df = pd.DataFrame(xgb_grid.cv_results_).sort_values(by='rank_test_score')\n",
    "print(xgb_df[['params','mean_test_score']][:5])"
   ]
  },
  {
   "cell_type": "code",
   "execution_count": null,
   "id": "546cf375",
   "metadata": {},
   "outputs": [],
   "source": [
    "xgb_pred = xgb_grid.best_estimator_.predict(test_x)\n",
    "print('Accuracy:', accuracy_score(test_y, xgb_pred)*100, '%')"
   ]
  },
  {
   "cell_type": "code",
   "execution_count": null,
   "id": "3b6b44d4",
   "metadata": {},
   "outputs": [],
   "source": []
  },
  {
   "cell_type": "markdown",
   "id": "1b429bde",
   "metadata": {},
   "source": [
    "Logistic regression"
   ]
  },
  {
   "cell_type": "code",
   "execution_count": null,
   "id": "d8e4a49c",
   "metadata": {},
   "outputs": [],
   "source": [
    "param_grid = {'penalty':['l1','l2'], \n",
    "              'C':[0.001,0.005,0.01,0.05,0.1,0.3,0.5], \n",
    "              'max_iter':[50,75,100,150,200,250,300,500]}\n",
    "\n",
    "log_clf = LogisticRegression(random_state = 42)\n",
    "log_grid = GridSearchCV(log_clf, param_grid=param_grid,scoring = 'accuracy',verbose = 1,n_jobs =-1) \n",
    "log_grid.fit(train_x, train_y)\n",
    "print(log_grid.best_score_,log_grid.best_params_)\n",
    "print(pd.DataFrame(log_grid.cv_results_).sort_values(by='rank_test_score')[['rank_test_score','params','mean_test_score']][:5])"
   ]
  },
  {
   "cell_type": "code",
   "execution_count": null,
   "id": "9d99a963",
   "metadata": {},
   "outputs": [],
   "source": [
    "log_pred = log_grid.best_estimator_.predict(test_x)\n",
    "print('Accuracy:', accuracy_score(test_y, log_pred)*100, '%')"
   ]
  },
  {
   "cell_type": "code",
   "execution_count": null,
   "id": "c958e303",
   "metadata": {},
   "outputs": [],
   "source": []
  },
  {
   "cell_type": "code",
   "execution_count": null,
   "id": "97ec16aa",
   "metadata": {},
   "outputs": [],
   "source": []
  },
  {
   "cell_type": "code",
   "execution_count": null,
   "id": "7a216e00",
   "metadata": {},
   "outputs": [],
   "source": []
  },
  {
   "cell_type": "code",
   "execution_count": null,
   "id": "ae80e236",
   "metadata": {},
   "outputs": [],
   "source": []
  },
  {
   "cell_type": "code",
   "execution_count": null,
   "id": "60490187",
   "metadata": {},
   "outputs": [],
   "source": []
  },
  {
   "cell_type": "code",
   "execution_count": null,
   "id": "abb00e4d",
   "metadata": {},
   "outputs": [],
   "source": []
  },
  {
   "cell_type": "code",
   "execution_count": null,
   "id": "cc57aca8",
   "metadata": {},
   "outputs": [],
   "source": []
  },
  {
   "cell_type": "code",
   "execution_count": null,
   "id": "28700ca9",
   "metadata": {},
   "outputs": [],
   "source": []
  },
  {
   "cell_type": "code",
   "execution_count": null,
   "id": "fd93b9ab",
   "metadata": {},
   "outputs": [],
   "source": []
  },
  {
   "cell_type": "code",
   "execution_count": null,
   "id": "77d440d4",
   "metadata": {},
   "outputs": [],
   "source": []
  },
  {
   "cell_type": "code",
   "execution_count": null,
   "id": "aa9a5758",
   "metadata": {},
   "outputs": [],
   "source": []
  },
  {
   "cell_type": "code",
   "execution_count": null,
   "id": "b9e8d288",
   "metadata": {},
   "outputs": [],
   "source": []
  }
 ],
 "metadata": {
  "kernelspec": {
   "display_name": "Python 3",
   "language": "python",
   "name": "python3"
  },
  "language_info": {
   "codemirror_mode": {
    "name": "ipython",
    "version": 3
   },
   "file_extension": ".py",
   "mimetype": "text/x-python",
   "name": "python",
   "nbconvert_exporter": "python",
   "pygments_lexer": "ipython3",
   "version": "3.8.5"
  }
 },
 "nbformat": 4,
 "nbformat_minor": 5
}
