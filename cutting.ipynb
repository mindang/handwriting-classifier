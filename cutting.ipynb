{
 "cells": [
  {
   "cell_type": "markdown",
   "metadata": {},
   "source": [
    "# 사진 전처리 파일"
   ]
  },
  {
   "cell_type": "code",
   "execution_count": 1,
   "metadata": {},
   "outputs": [],
   "source": [
    "import numpy as np\n",
    "import pandas as pd\n",
    "import cv2 \n",
    "from tensorflow.keras.preprocessing import image\n",
    "import matplotlib.pyplot as plt\n",
    "from PIL import Image\n",
    "import seaborn as sns\n",
    "from tqdm import tqdm"
   ]
  },
  {
   "cell_type": "markdown",
   "metadata": {},
   "source": [
    "샘플 이미지 테스트"
   ]
  },
  {
   "cell_type": "markdown",
   "metadata": {},
   "source": [
    "흰색 : 255 , 검정색 : 0"
   ]
  },
  {
   "cell_type": "code",
   "execution_count": 42,
   "metadata": {},
   "outputs": [],
   "source": [
    "img = cv2.imread('test/0001_3.jpg', cv2.IMREAD_GRAYSCALE)"
   ]
  },
  {
   "cell_type": "code",
   "execution_count": 39,
   "metadata": {},
   "outputs": [],
   "source": [
    "cv2.imshow('test_image',img)\n",
    "cv2.waitKey(0)\n",
    "cv2.destroyAllWindows()"
   ]
  },
  {
   "cell_type": "code",
   "execution_count": 40,
   "metadata": {},
   "outputs": [
    {
     "data": {
      "text/plain": [
       "(3371, 2471)"
      ]
     },
     "execution_count": 40,
     "metadata": {},
     "output_type": "execute_result"
    }
   ],
   "source": [
    "img = np.array(img)\n",
    "img.shape"
   ]
  },
  {
   "cell_type": "code",
   "execution_count": 43,
   "metadata": {},
   "outputs": [
    {
     "data": {
      "text/plain": [
       "(3371, 1000)"
      ]
     },
     "execution_count": 43,
     "metadata": {},
     "output_type": "execute_result"
    }
   ],
   "source": [
    "#test\n",
    "cv2.imwrite('11111.jpg', img[:,:1000])\n",
    "img = cv2.imread('11111.jpg', cv2.IMREAD_GRAYSCALE)\n",
    "img.shape"
   ]
  },
  {
   "cell_type": "markdown",
   "metadata": {},
   "source": [
    "이미지 저장 테스트"
   ]
  },
  {
   "cell_type": "code",
   "execution_count": 14,
   "metadata": {},
   "outputs": [
    {
     "data": {
      "text/plain": [
       "True"
      ]
     },
     "execution_count": 14,
     "metadata": {},
     "output_type": "execute_result"
    }
   ],
   "source": [
    "#opencv는 배열 형태로도 이미지 저장이 가능\n",
    "cv2.imwrite('11111.jpg', img)"
   ]
  },
  {
   "cell_type": "markdown",
   "metadata": {},
   "source": [
    "흑백변환"
   ]
  },
  {
   "cell_type": "code",
   "execution_count": null,
   "metadata": {},
   "outputs": [],
   "source": [
    "from_path = 'new/'\n",
    "to_path = 'cut/'\n",
    "\n",
    "for i in tqdm(range(1,476)):\n",
    "    for j in range(1,5):\n",
    "        image_path = str(i).zfill(4) + '_' + str(j) +'.jpg'\n",
    "        img = cv2.imread(from_path + image_path, cv2.IMREAD_GRAYSCALE)\n",
    "        cv2.imwrite(to_path + image_path , img[x1-5:x2+5])"
   ]
  },
  {
   "cell_type": "markdown",
   "metadata": {},
   "source": [
    "적당한 크기로 자르기"
   ]
  },
  {
   "cell_type": "code",
   "execution_count": 57,
   "metadata": {},
   "outputs": [
    {
     "name": "stderr",
     "output_type": "stream",
     "text": [
      "100%|██████████| 475/475 [21:59<00:00,  2.78s/it]\n"
     ]
    }
   ],
   "source": [
    "from_path = 'new/'\n",
    "to_path = 'cut/'\n",
    "\n",
    "for i in tqdm(range(1,476)):\n",
    "    for j in range(1,5):\n",
    "        image_path = str(i).zfill(4) + '_' + str(j) +'.jpg'\n",
    "        img = cv2.imread(from_path + image_path, cv2.IMREAD_GRAYSCALE)\n",
    "        img = np.array(img)\n",
    "        \n",
    "\n",
    "        for ii in range(img.shape[0]):\n",
    "            if sum(img[ii])/len(img[ii])<244.5:\n",
    "                x1 = ii\n",
    "                break\n",
    "        for ii in range(img.shape[0]-1,0,-1):\n",
    "            if sum(img[ii])/len(img[ii])<244.5:\n",
    "                x2 = ii\n",
    "                break\n",
    "        cv2.imwrite(to_path + image_path , img[x1-5:x2+5])"
   ]
  },
  {
   "cell_type": "markdown",
   "metadata": {},
   "source": [
    "EDA : 전체"
   ]
  },
  {
   "cell_type": "code",
   "execution_count": 19,
   "metadata": {},
   "outputs": [
    {
     "name": "stderr",
     "output_type": "stream",
     "text": [
      "100%|██████████| 475/475 [00:17<00:00, 27.08it/s]\n"
     ]
    }
   ],
   "source": [
    "from_path = 'cut/'\n",
    "\n",
    "x_width = []#세로길이\n",
    "y_width = []#가로길이\n",
    "\n",
    "for i in tqdm(range(1,476)):\n",
    "    for j in range(1,5):\n",
    "        image_path = str(i).zfill(4) + '_' + str(j) +'.jpg'\n",
    "        img = cv2.imread(from_path + image_path, cv2.IMREAD_GRAYSCALE)\n",
    "        x_width.append(img.shape[0])\n",
    "        y_width.append(img.shape[1])"
   ]
  },
  {
   "cell_type": "code",
   "execution_count": 21,
   "metadata": {
    "scrolled": true
   },
   "outputs": [
    {
     "data": {
      "text/plain": [
       "<seaborn.axisgrid.FacetGrid at 0x200546f3970>"
      ]
     },
     "execution_count": 21,
     "metadata": {},
     "output_type": "execute_result"
    },
    {
     "data": {
      "image/png": "[encoded data removed]",
      "text/plain": [
       "<Figure size 360x360 with 1 Axes>"
      ]
     },
     "metadata": {
      "needs_background": "light"
     },
     "output_type": "display_data"
    }
   ],
   "source": [
    "sns.displot(x_width)"
   ]
  },
  {
   "cell_type": "code",
   "execution_count": 71,
   "metadata": {},
   "outputs": [
    {
     "name": "stdout",
     "output_type": "stream",
     "text": [
      "10\n",
      "128 1\n"
     ]
    },
    {
     "data": {
      "text/plain": [
       "True"
      ]
     },
     "execution_count": 71,
     "metadata": {},
     "output_type": "execute_result"
    }
   ],
   "source": [
    "print(min(x_width))\n",
    "idx = x_width.index(min(x_width))\n",
    "print(idx//4 + 1,idx%4 + 1)\n",
    "img = cv2.imread('cut/'+str(idx//4 + 1).zfill(4)+'_'+str(idx%4 + 1)+'.jpg', cv2.IMREAD_GRAYSCALE)\n",
    "cv2.imshow('test_image',img)\n",
    "cv2.waitKey(0)\n",
    "cv2.destroyAllWindows()\n",
    "cv2.imwrite('11111.jpg', img)"
   ]
  },
  {
   "cell_type": "code",
   "execution_count": null,
   "metadata": {},
   "outputs": [],
   "source": []
  },
  {
   "cell_type": "code",
   "execution_count": 22,
   "metadata": {},
   "outputs": [
    {
     "data": {
      "text/plain": [
       "<seaborn.axisgrid.FacetGrid at 0x20056a044c0>"
      ]
     },
     "execution_count": 22,
     "metadata": {},
     "output_type": "execute_result"
    },
    {
     "data": {
      "image/png": "[encoded data removed]",
      "text/plain": [
       "<Figure size 360x360 with 1 Axes>"
      ]
     },
     "metadata": {
      "needs_background": "light"
     },
     "output_type": "display_data"
    }
   ],
   "source": [
    "sns.displot(y_width)"
   ]
  },
  {
   "cell_type": "code",
   "execution_count": 23,
   "metadata": {},
   "outputs": [
    {
     "data": {
      "text/plain": [
       "4967"
      ]
     },
     "execution_count": 23,
     "metadata": {},
     "output_type": "execute_result"
    }
   ],
   "source": [
    "max(y_width)"
   ]
  },
  {
   "cell_type": "code",
   "execution_count": 46,
   "metadata": {},
   "outputs": [
    {
     "name": "stdout",
     "output_type": "stream",
     "text": [
      "200 4\n"
     ]
    },
    {
     "data": {
      "text/plain": [
       "True"
      ]
     },
     "execution_count": 46,
     "metadata": {},
     "output_type": "execute_result"
    }
   ],
   "source": [
    "idx = y_width.index(max(y_width))\n",
    "print(idx//4 + 1,idx%4 + 1)\n",
    "img = cv2.imread('cut/'+str(idx//4 + 1).zfill(4)+'_'+str(idx%4 + 1)+'.jpg', cv2.IMREAD_GRAYSCALE)\n",
    "cv2.imshow('test_image',img)\n",
    "cv2.waitKey(0)\n",
    "cv2.destroyAllWindows()\n",
    "cv2.imwrite('11111.jpg', img)"
   ]
  },
  {
   "cell_type": "code",
   "execution_count": null,
   "metadata": {},
   "outputs": [],
   "source": []
  },
  {
   "cell_type": "code",
   "execution_count": null,
   "metadata": {},
   "outputs": [],
   "source": []
  },
  {
   "cell_type": "code",
   "execution_count": null,
   "metadata": {},
   "outputs": [],
   "source": []
  },
  {
   "cell_type": "code",
   "execution_count": null,
   "metadata": {},
   "outputs": [],
   "source": []
  },
  {
   "cell_type": "markdown",
   "metadata": {},
   "source": [
    "이진화 후 윤곽 따기 => 실패"
   ]
  },
  {
   "cell_type": "code",
   "execution_count": 97,
   "metadata": {},
   "outputs": [],
   "source": [
    "def crop(img): # 인수는 이미지의 상대 경로\n",
    "   \n",
    "    # 주위 부분을 강제적으로 트리밍\n",
    "    h, w = img.shape[:2]\n",
    "    h1, h2 = 0, h\n",
    "    w1, w2 = 0, w\n",
    "    img = img[h1: h2, w1: w2]\n",
    "   \n",
    "\n",
    "    # 색 공간을 이진화한다.\n",
    "    img2 = cv2.threshold(img, 127, 255, cv2.THRESH_TOZERO)[1]\n",
    "    # cv2.imshow('img2', img2)\n",
    "\n",
    "    # 윤곽을 추출한다.\n",
    "    contours = cv2.findContours(img2, cv2.RETR_TREE, cv2.CHAIN_APPROX_SIMPLE)[0]\n",
    "\n",
    "    # 윤곽의 좌표를 리스트에 대입한다.\n",
    "    x1 = [] #x좌표의 최소값\n",
    "    y1 = [] #y좌표의 최소값\n",
    "    x2 = [] #x좌표의 최대값\n",
    "    y2 = [] #y좌표의 최대값\n",
    "    for i in range(1, len(contours)):# i = 1 는 이미지 전체의 외곽이되므로 카운트에 포함시키지 않는다.\n",
    "        ret = cv2.boundingRect(contours[i])\n",
    "        x1.append(ret[0])\n",
    "        y1.append(ret[1])\n",
    "        x2.append(ret[0] + ret[2])\n",
    "        y2.append(ret[1] + ret[3])\n",
    "\n",
    "    # 외곽의 첫 번째 외곽을 오려냄\n",
    "    x1_min = min(x1)\n",
    "    y1_min = min(y1)\n",
    "    x2_max = max(x2)\n",
    "    y2_max = max(y2)\n",
    "    cv2.rectangle(img, (x1_min, y1_min), (x2_max, y2_max), (0, 255, 0), 3)\n",
    "\n",
    "    crop_img = img[y1_min:y2_max, x1_min:x2_max]\n",
    "    # cv2.imshow('crop_img', crop_img)\n",
    "    \n",
    "    cv2.imshow('test_image',crop_img)\n",
    "    cv2.waitKey(0)\n",
    "    cv2.destroyAllWindows()\n",
    "\n",
    "    return crop_img"
   ]
  },
  {
   "cell_type": "code",
   "execution_count": 98,
   "metadata": {},
   "outputs": [
    {
     "name": "stderr",
     "output_type": "stream",
     "text": [
      "100%|██████████| 1/1 [00:05<00:00,  5.44s/it]\n"
     ]
    }
   ],
   "source": [
    "from_path = 'test/'\n",
    "to_path = ''\n",
    "\n",
    "for i in tqdm(range(128,129)):\n",
    "    for j in range(1,2):\n",
    "        image_path = str(i).zfill(4) + '_' + str(j) +'.jpg'\n",
    "        img = cv2.imread(from_path + image_path,cv2.IMREAD_GRAYSCALE)\n",
    "        \n",
    "        cv2.imwrite(to_path + image_path , crop(img))"
   ]
  },
  {
   "cell_type": "markdown",
   "metadata": {},
   "source": [
    "cut알고리즘"
   ]
  },
  {
   "cell_type": "code",
   "execution_count": null,
   "metadata": {},
   "outputs": [],
   "source": [
    "from_path = 'new/'\n",
    "to_path = 'cut/'\n",
    "\n",
    "for i in tqdm(range(1,476)):\n",
    "    for j in range(1,5):\n",
    "        image_path = str(i).zfill(4) + '_' + str(j) +'.jpg'\n",
    "        img = cv2.imread(from_path + image_path, cv2.IMREAD_GRAYSCALE)\n",
    "        img = np.array(img)\n",
    "        width = img.shape[1]\n",
    "        \n",
    "        x1 , x2 = -1 , -1\n",
    "        \n",
    "        for ii in range(img.shape[0]):\n",
    "            for jj in range(int(width*1/4),int(width*3/4)):\n",
    "                if img[ii][jj]<200:\n",
    "                    x1 = ii\n",
    "                    break\n",
    "            if x1!=-1:\n",
    "                break\n",
    "                    \n",
    "        for ii in range(img.shape[0]-1,0,-1):\n",
    "            for jj in range(int(width*1/4),int(width*3/4)):\n",
    "                if img[ii][jj]<200:\n",
    "                    x2 = ii\n",
    "                    break\n",
    "            if x2!=-1:\n",
    "                break\n",
    "                    \n",
    "        cv2.imwrite(to_path + image_path , img[x1-5:x2+5])"
   ]
  },
  {
   "cell_type": "code",
   "execution_count": null,
   "metadata": {},
   "outputs": [],
   "source": []
  },
  {
   "cell_type": "code",
   "execution_count": null,
   "metadata": {},
   "outputs": [],
   "source": []
  },
  {
   "cell_type": "code",
   "execution_count": null,
   "metadata": {},
   "outputs": [],
   "source": []
  },
  {
   "cell_type": "code",
   "execution_count": null,
   "metadata": {},
   "outputs": [],
   "source": []
  },
  {
   "cell_type": "markdown",
   "metadata": {},
   "source": [
    "자르기 알고리즘 수정"
   ]
  },
  {
   "cell_type": "code",
   "execution_count": 19,
   "metadata": {},
   "outputs": [
    {
     "name": "stderr",
     "output_type": "stream",
     "text": [
      "100%|██████████| 475/475 [1:10:33<00:00,  8.91s/it]\n"
     ]
    }
   ],
   "source": [
    "from_path = 'new/'\n",
    "to_path = 'new_cut/'\n",
    "\n",
    "for i in tqdm(range(1,476)):\n",
    "    for j in range(1,5):\n",
    "        image_path = str(i).zfill(4) + '_' + str(j) +'.jpg'\n",
    "        img = cv2.imread(from_path + image_path, cv2.IMREAD_GRAYSCALE)\n",
    "        img = np.array(img)\n",
    "        width = img.shape[1]\n",
    "        \n",
    "        x1 , x2 = -1 , -1\n",
    "        \n",
    "        for ii in range(img.shape[0]):\n",
    "            cnt = 0\n",
    "            for jj in range(int(width*1/4),int(width*3/4),2):\n",
    "                if img[ii][jj]<200:\n",
    "                    cnt += 1\n",
    "            if cnt > width*1/50:\n",
    "                x1 = ii\n",
    "                break\n",
    "                    \n",
    "        for ii in range(img.shape[0]-1,0,-1):\n",
    "            cnt = 0\n",
    "            for jj in range(int(width*1/4),int(width*3/4),2):\n",
    "                if img[ii][jj]<200:\n",
    "                    cnt += 1\n",
    "            if cnt > width*1/50:\n",
    "                x2 = ii\n",
    "                break\n",
    "                    \n",
    "        cv2.imwrite(to_path + image_path , img[x1:x2])"
   ]
  },
  {
   "cell_type": "markdown",
   "metadata": {},
   "source": [
    "EDA"
   ]
  },
  {
   "cell_type": "code",
   "execution_count": 30,
   "metadata": {},
   "outputs": [
    {
     "name": "stderr",
     "output_type": "stream",
     "text": [
      "100%|██████████| 475/475 [00:16<00:00, 28.77it/s]\n"
     ]
    }
   ],
   "source": [
    "from_path = 'new_cut/'\n",
    "\n",
    "x_width = []#세로길이\n",
    "y_width = []#가로길이\n",
    "\n",
    "for i in tqdm(range(1,476)):\n",
    "    for j in range(1,5):\n",
    "        image_path = str(i).zfill(4) + '_' + str(j) +'.jpg'\n",
    "        img = cv2.imread(from_path + image_path, cv2.IMREAD_GRAYSCALE)\n",
    "        x_width.append(img.shape[0])\n",
    "        y_width.append(img.shape[1])"
   ]
  },
  {
   "cell_type": "code",
   "execution_count": 31,
   "metadata": {},
   "outputs": [
    {
     "data": {
      "text/plain": [
       "<seaborn.axisgrid.FacetGrid at 0x1c32055aa00>"
      ]
     },
     "execution_count": 31,
     "metadata": {},
     "output_type": "execute_result"
    },
    {
     "data": {
      "image/png": "[encoded data removed]",
      "text/plain": [
       "<Figure size 360x360 with 1 Axes>"
      ]
     },
     "metadata": {
      "needs_background": "light"
     },
     "output_type": "display_data"
    }
   ],
   "source": [
    "sns.displot(x_width)"
   ]
  },
  {
   "cell_type": "code",
   "execution_count": 32,
   "metadata": {},
   "outputs": [
    {
     "data": {
      "text/plain": [
       "<seaborn.axisgrid.FacetGrid at 0x1c320651970>"
      ]
     },
     "execution_count": 32,
     "metadata": {},
     "output_type": "execute_result"
    },
    {
     "data": {
      "image/png": "[encoded data removed]",
      "text/plain": [
       "<Figure size 360x360 with 1 Axes>"
      ]
     },
     "metadata": {
      "needs_background": "light"
     },
     "output_type": "display_data"
    }
   ],
   "source": [
    "sns.displot(y_width)"
   ]
  },
  {
   "cell_type": "code",
   "execution_count": 37,
   "metadata": {},
   "outputs": [
    {
     "data": {
      "text/plain": [
       "(174, 2083)"
      ]
     },
     "execution_count": 37,
     "metadata": {},
     "output_type": "execute_result"
    }
   ],
   "source": [
    "min(x_width),min(y_width)"
   ]
  },
  {
   "cell_type": "code",
   "execution_count": 34,
   "metadata": {},
   "outputs": [
    {
     "data": {
      "text/plain": [
       "796"
      ]
     },
     "execution_count": 34,
     "metadata": {},
     "output_type": "execute_result"
    }
   ],
   "source": [
    "y_width.index(max(y_width))"
   ]
  },
  {
   "cell_type": "code",
   "execution_count": 35,
   "metadata": {},
   "outputs": [
    {
     "data": {
      "text/plain": [
       "(200, 4)"
      ]
     },
     "execution_count": 35,
     "metadata": {},
     "output_type": "execute_result"
    }
   ],
   "source": [
    "799//4+1,799%4+1"
   ]
  },
  {
   "cell_type": "markdown",
   "metadata": {},
   "source": [
    "블러 처리  sigma : 표준편차 얼마나 흐릿하게"
   ]
  },
  {
   "cell_type": "code",
   "execution_count": null,
   "metadata": {},
   "outputs": [],
   "source": [
    "#가우시안 필터 사용 테스트\n",
    "img = cv2.imread('cut/0001_1.jpg', cv2.IMREAD_GRAYSCALE)\n",
    "sigma = 5\n",
    "#커널사이즈(0,0)은 sigma에 의해 자동 결정\n",
    "dst = cv2.GaussianBlur(img, (0, 0), sigma)\n",
    "cv2.imshow('test_image',dst)\n",
    "cv2.waitKey(0)\n",
    "cv2.destroyAllWindows()\n",
    "cv2.imwrite('0001_1_blur.jpg' , dst)"
   ]
  },
  {
   "cell_type": "code",
   "execution_count": 2,
   "metadata": {},
   "outputs": [
    {
     "name": "stderr",
     "output_type": "stream",
     "text": [
      "100%|██████████| 475/475 [01:56<00:00,  4.06it/s]\n"
     ]
    }
   ],
   "source": [
    "from_path = 'new/'\n",
    "to_path = 'blur/'\n",
    "\n",
    "for i in tqdm(range(1,476)):\n",
    "    for j in range(1,5):\n",
    "        image_path = str(i).zfill(4) + '_' + str(j) +'.jpg'\n",
    "        img = cv2.imread(from_path + image_path, cv2.IMREAD_GRAYSCALE)\n",
    "        dst = cv2.GaussianBlur(img, (0, 0), 2)\n",
    "        cv2.imwrite(to_path + image_path , img)"
   ]
  },
  {
   "cell_type": "markdown",
   "metadata": {},
   "source": [
    "test"
   ]
  },
  {
   "cell_type": "code",
   "execution_count": null,
   "metadata": {},
   "outputs": [],
   "source": [
    "from_path = 'cut/'\n",
    "\n",
    "i = 127\n",
    "j = 1\n",
    "image_path = str(i).zfill(4) + '_' + str(j) +'.jpg'\n",
    "img = cv2.imread(from_path + image_path, cv2.IMREAD_GRAYSCALE)\n",
    "img = np.array(img)\n",
    "print(img.shape)\n",
    "\n",
    "x1 , x2 = -1 , -1\n",
    "width = img.shape[1]\n",
    "\n",
    "for ii in range(img.shape[0]):\n",
    "    for jj in range(int(width*1/4),int(width*3/4)):\n",
    "        if img[ii][jj]<200:\n",
    "            print(img[ii][jj])\n",
    "            x1 = ii\n",
    "            break\n",
    "    if x1!=-1:\n",
    "        break\n",
    "                    \n",
    "for ii in range(img.shape[0]-1,0,-1):\n",
    "    for jj in range(int(width*1/4),int(width*3/4)):\n",
    "        if img[ii][jj]<200:\n",
    "            print(img[ii][jj])\n",
    "            x2 = ii\n",
    "            break\n",
    "    if x2!=-1:\n",
    "        break\n",
    "print(x1,x2)"
   ]
  },
  {
   "cell_type": "code",
   "execution_count": null,
   "metadata": {},
   "outputs": [],
   "source": []
  },
  {
   "cell_type": "code",
   "execution_count": null,
   "metadata": {},
   "outputs": [],
   "source": []
  },
  {
   "cell_type": "code",
   "execution_count": 4,
   "metadata": {},
   "outputs": [],
   "source": [
    "y = pd.read_csv('train_answers.csv')\n",
    "y.set_index('writer',inplace=True)"
   ]
  },
  {
   "cell_type": "code",
   "execution_count": 6,
   "metadata": {},
   "outputs": [
    {
     "data": {
      "text/plain": [
       "<seaborn.axisgrid.FacetGrid at 0x1fc8c8288e0>"
      ]
     },
     "execution_count": 6,
     "metadata": {},
     "output_type": "execute_result"
    },
    {
     "data": {
      "image/png": "[encoded data removed]",
      "text/plain": [
       "<Figure size 420.75x360 with 1 Axes>"
      ]
     },
     "metadata": {
      "needs_background": "light"
     },
     "output_type": "display_data"
    }
   ],
   "source": [
    "sns.displot(y)"
   ]
  },
  {
   "cell_type": "code",
   "execution_count": null,
   "metadata": {},
   "outputs": [],
   "source": []
  }
 ],
 "metadata": {
  "kernelspec": {
   "display_name": "Python 3",
   "language": "python",
   "name": "python3"
  },
  "language_info": {
   "codemirror_mode": {
    "name": "ipython",
    "version": 3
   },
   "file_extension": ".py",
   "mimetype": "text/x-python",
   "name": "python",
   "nbconvert_exporter": "python",
   "pygments_lexer": "ipython3",
   "version": "3.8.5"
  }
 },
 "nbformat": 4,
 "nbformat_minor": 4
}
