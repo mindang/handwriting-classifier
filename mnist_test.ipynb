{
 "cells": [
  {
   "cell_type": "markdown",
   "id": "68f679a2",
   "metadata": {},
   "source": [
    "MNIST 손글씨 데이터로 CNN , svm비교"
   ]
  },
  {
   "cell_type": "code",
   "execution_count": 156,
   "id": "0b6eb27b",
   "metadata": {},
   "outputs": [],
   "source": [
    "import tensorflow as tf\n",
    "import matplotlib.pyplot as plt\n",
    "import numpy as np\n",
    "from keras.callbacks import EarlyStopping\n",
    "\n",
    "from preprocess import get_hinge_features\n",
    "from preprocess import get_chain_code_features\n",
    "from preprocess import preprocessing\n",
    "\n",
    "import cv2\n",
    "from tqdm import tqdm \n",
    "from sklearn.model_selection import GridSearchCV\n",
    "from sklearn.svm import SVC\n",
    "from sklearn.metrics import accuracy_score\n",
    "import pandas as pd"
   ]
  },
  {
   "cell_type": "code",
   "execution_count": 3,
   "id": "3778668c",
   "metadata": {},
   "outputs": [
    {
     "name": "stdout",
     "output_type": "stream",
     "text": [
      "(60000, 28, 28)\n",
      "(60000,)\n",
      "(10000, 28, 28)\n",
      "(10000,)\n"
     ]
    }
   ],
   "source": [
    "(x_train, y_train), (x_test, y_test) = tf.keras.datasets.mnist.load_data()\n",
    "\n",
    "print(x_train.shape)\n",
    "print(y_train.shape)\n",
    "print(x_test.shape)\n",
    "print(y_test.shape)"
   ]
  },
  {
   "cell_type": "markdown",
   "id": "7b4e78ca",
   "metadata": {},
   "source": [
    "CNN"
   ]
  },
  {
   "cell_type": "code",
   "execution_count": 8,
   "id": "1d47a925",
   "metadata": {},
   "outputs": [
    {
     "name": "stdout",
     "output_type": "stream",
     "text": [
      "Model: \"sequential_3\"\n",
      "_________________________________________________________________\n",
      " Layer (type)                Output Shape              Param #   \n",
      "=================================================================\n",
      " conv2d_4 (Conv2D)           (None, 28, 28, 64)        640       \n",
      "                                                                 \n",
      " conv2d_5 (Conv2D)           (None, 28, 28, 64)        36928     \n",
      "                                                                 \n",
      " max_pooling2d_2 (MaxPooling  (None, 14, 14, 64)       0         \n",
      " 2D)                                                             \n",
      "                                                                 \n",
      " conv2d_6 (Conv2D)           (None, 14, 14, 128)       73856     \n",
      "                                                                 \n",
      " conv2d_7 (Conv2D)           (None, 12, 12, 256)       295168    \n",
      "                                                                 \n",
      " max_pooling2d_3 (MaxPooling  (None, 6, 6, 256)        0         \n",
      " 2D)                                                             \n",
      "                                                                 \n",
      " flatten_1 (Flatten)         (None, 9216)              0         \n",
      "                                                                 \n",
      " dense_13 (Dense)            (None, 512)               4719104   \n",
      "                                                                 \n",
      " dropout_2 (Dropout)         (None, 512)               0         \n",
      "                                                                 \n",
      " dense_14 (Dense)            (None, 256)               131328    \n",
      "                                                                 \n",
      " dropout_3 (Dropout)         (None, 256)               0         \n",
      "                                                                 \n",
      " dense_15 (Dense)            (None, 10)                2570      \n",
      "                                                                 \n",
      "=================================================================\n",
      "Total params: 5,259,594\n",
      "Trainable params: 5,259,594\n",
      "Non-trainable params: 0\n",
      "_________________________________________________________________\n",
      "Epoch 1/500\n",
      "500/500 [==============================] - 9s 10ms/step - loss: 0.2188 - accuracy: 0.9312 - val_loss: 0.0385 - val_accuracy: 0.9882\n",
      "Epoch 2/500\n",
      "500/500 [==============================] - 5s 10ms/step - loss: 0.0636 - accuracy: 0.9826 - val_loss: 0.0309 - val_accuracy: 0.9907\n",
      "Epoch 3/500\n",
      "500/500 [==============================] - 5s 10ms/step - loss: 0.0435 - accuracy: 0.9879 - val_loss: 0.0231 - val_accuracy: 0.9935\n",
      "Epoch 4/500\n",
      "500/500 [==============================] - 5s 10ms/step - loss: 0.0324 - accuracy: 0.9909 - val_loss: 0.0201 - val_accuracy: 0.9941\n",
      "Epoch 5/500\n",
      "500/500 [==============================] - 5s 10ms/step - loss: 0.0284 - accuracy: 0.9912 - val_loss: 0.0241 - val_accuracy: 0.9935\n",
      "Epoch 6/500\n",
      "500/500 [==============================] - 5s 10ms/step - loss: 0.0237 - accuracy: 0.9931 - val_loss: 0.0343 - val_accuracy: 0.9893\n",
      "Epoch 7/500\n",
      "500/500 [==============================] - 5s 10ms/step - loss: 0.0213 - accuracy: 0.9941 - val_loss: 0.0203 - val_accuracy: 0.9941\n",
      "Epoch 8/500\n",
      "500/500 [==============================] - 5s 10ms/step - loss: 0.0195 - accuracy: 0.9942 - val_loss: 0.0220 - val_accuracy: 0.9939\n",
      "Epoch 9/500\n",
      "500/500 [==============================] - 5s 10ms/step - loss: 0.0176 - accuracy: 0.9948 - val_loss: 0.0220 - val_accuracy: 0.9938\n",
      "Epoch 10/500\n",
      "500/500 [==============================] - 5s 10ms/step - loss: 0.0138 - accuracy: 0.9960 - val_loss: 0.0275 - val_accuracy: 0.9936\n",
      "Epoch 11/500\n",
      "500/500 [==============================] - 5s 10ms/step - loss: 0.0141 - accuracy: 0.9958 - val_loss: 0.0256 - val_accuracy: 0.9929\n",
      "Epoch 12/500\n",
      "500/500 [==============================] - 5s 10ms/step - loss: 0.0131 - accuracy: 0.9961 - val_loss: 0.0247 - val_accuracy: 0.9936\n",
      "Epoch 13/500\n",
      "500/500 [==============================] - 5s 10ms/step - loss: 0.0136 - accuracy: 0.9961 - val_loss: 0.0297 - val_accuracy: 0.9933\n",
      "313/313 [==============================] - 1s 4ms/step - loss: 0.0297 - accuracy: 0.9933\n",
      "최종 예측 성공률(%):  99.33000206947327\n"
     ]
    }
   ],
   "source": [
    "# 각종 파라메터의 영향을 보기 위해 랜덤값 고정\n",
    "\n",
    "(x_train, y_train), (x_test, y_test) = tf.keras.datasets.mnist.load_data()\n",
    "tf.random.set_seed(42)\n",
    "\n",
    "# Normalizing data\n",
    "x_train, x_test = x_train / 255.0, x_test / 255.0\n",
    "\n",
    "# (60000, 28, 28) => (60000, 784)로 reshape\n",
    "x_train = x_train.reshape(-1, 28, 28, 1)\n",
    "x_test = x_test.reshape(-1, 28, 28, 1)\n",
    "\n",
    "# One-hot 인코딩\n",
    "y_train = tf.keras.utils.to_categorical(y_train, 10)\n",
    "y_test = tf.keras.utils.to_categorical(y_test, 10)\n",
    "\n",
    "# 훈련셋과 검증셋 분리\n",
    "x_val = x_train[50000:]\n",
    "y_val = y_train[50000:]\n",
    "x_train = x_train[:50000]\n",
    "y_train = y_train[:50000]\n",
    "\n",
    "model = tf.keras.Sequential([\n",
    "    tf.keras.layers.Conv2D(kernel_size=(3,3), filters=64, input_shape=(28,28,1), padding='same', activation='relu'),\n",
    "    tf.keras.layers.Conv2D(kernel_size=(3,3), filters=64, padding='same', activation='relu'),\n",
    "    tf.keras.layers.MaxPool2D(pool_size=(2,2)),\n",
    "\n",
    "    tf.keras.layers.Conv2D(kernel_size=(3,3), filters=128, padding='same', activation='relu'),\n",
    "    tf.keras.layers.Conv2D(kernel_size=(3,3), filters=256, padding='valid', activation='relu'),\n",
    "    tf.keras.layers.MaxPool2D(pool_size=(2,2)),\n",
    "\n",
    "    tf.keras.layers.Flatten(),\n",
    "    tf.keras.layers.Dense(units=512, activation='relu'),\n",
    "    tf.keras.layers.Dropout(0.5),\n",
    "    tf.keras.layers.Dense(units=256, activation='relu'),\n",
    "    tf.keras.layers.Dropout(0.5),\n",
    "    tf.keras.layers.Dense(units=10, activation='softmax')\n",
    "])\n",
    "model.compile(loss='categorical_crossentropy', optimizer=tf.optimizers.Adam(lr=0.001), metrics=['accuracy'])\n",
    "model.summary()\n",
    "\n",
    "early_stopping = EarlyStopping(monitor='val_accuracy', min_delta=0.001, patience=10, verbose=0, mode='auto')\n",
    "model.fit(x_train, y_train, batch_size=100, epochs=500, validation_data=(x_test, y_test),callbacks=[early_stopping])\n",
    "\n",
    "result = model.evaluate(x_test, y_test)\n",
    "print(\"최종 예측 성공률(%): \", result[1]*100)"
   ]
  },
  {
   "cell_type": "markdown",
   "id": "172e7b89",
   "metadata": {},
   "source": [
    "CNN 은 MNIST를 아주 잘 분석함"
   ]
  },
  {
   "cell_type": "code",
   "execution_count": null,
   "id": "4d8f52c0",
   "metadata": {},
   "outputs": [],
   "source": []
  },
  {
   "cell_type": "code",
   "execution_count": null,
   "id": "c4731c0a",
   "metadata": {},
   "outputs": [],
   "source": []
  },
  {
   "cell_type": "code",
   "execution_count": null,
   "id": "ee1cc8f6",
   "metadata": {},
   "outputs": [],
   "source": []
  },
  {
   "cell_type": "code",
   "execution_count": 225,
   "id": "c17cddff",
   "metadata": {},
   "outputs": [],
   "source": [
    "LEG_LENGTH = 5\n",
    "N_ANGLE_BINS = 12\n",
    "BIN_SIZE = 360 // N_ANGLE_BINS\n",
    "def get_hinge_features1(bw_img):\n",
    "\n",
    "    contours, _ = cv2.findContours(\n",
    "        bw_img, cv2.RETR_TREE,\n",
    "        cv2.CHAIN_APPROX_NONE\n",
    "    )\n",
    "    contours = sorted(contours, key=cv2.contourArea, reverse=True)[1:]\n",
    "    hist = np.zeros((N_ANGLE_BINS, N_ANGLE_BINS))\n",
    "\n",
    "    for cnt in contours:\n",
    "        n_pixels = len(cnt)\n",
    "        if n_pixels <= LEG_LENGTH:\n",
    "            continue\n",
    "        points = np.array([point[0] for point in cnt])\n",
    "        xs, ys = points[:, 0], points[:, 1]\n",
    "        point_1s = np.array([cnt[(i + LEG_LENGTH) % n_pixels][0]\n",
    "                            for i in range(n_pixels)])\n",
    "        \n",
    "        point_2s = np.array([cnt[(i - LEG_LENGTH) % n_pixels][0]\n",
    "                            for i in range(n_pixels)])\n",
    "        x1s, y1s = point_1s[:, 0], point_1s[:, 1]\n",
    "        x2s, y2s = point_2s[:, 0], point_2s[:, 1]\n",
    "\n",
    "        phi_1s = np.degrees(np.arctan2(y1s - ys, x1s - xs) + np.pi)\n",
    "        phi_2s = np.degrees(np.arctan2(y2s - ys, x2s - xs) + np.pi)\n",
    "        print(phi_1s.shape,phi_2s.shape)\n",
    "        indices = np.where(phi_2s > phi_1s)[0]\n",
    "        print(indices.shape)\n",
    "        print(indices)\n",
    "        for i in indices:\n",
    "            phi1 = int(phi_1s[i] // BIN_SIZE) % N_ANGLE_BINS\n",
    "            phi2 = int(phi_2s[i] // BIN_SIZE) % N_ANGLE_BINS\n",
    "            hist[phi1, phi2] += 1\n",
    "\n",
    "    normalised_hist = hist / np.sum(hist)\n",
    "    feature_vector = normalised_hist[np.triu_indices_from(\n",
    "        normalised_hist, k=1)]\n",
    "\n",
    "    return feature_vector"
   ]
  },
  {
   "cell_type": "code",
   "execution_count": 226,
   "id": "2ff1d9e6",
   "metadata": {},
   "outputs": [
    {
     "data": {
      "text/plain": [
       "(28, 28)"
      ]
     },
     "execution_count": 226,
     "metadata": {},
     "output_type": "execute_result"
    }
   ],
   "source": [
    "(x_train, y_train), (x_test, y_test) = tf.keras.datasets.mnist.load_data()\n",
    "a = x_train[501]\n",
    "a = cv2.adaptiveThreshold(a, 255, cv2.ADAPTIVE_THRESH_GAUSSIAN_C,cv2.THRESH_BINARY, 3, 3)\n",
    "a.shape"
   ]
  },
  {
   "cell_type": "code",
   "execution_count": 227,
   "id": "7608da6e",
   "metadata": {},
   "outputs": [
    {
     "data": {
      "image/png": "[encoded data removed]",
      "text/plain": [
       "<Figure size 432x288 with 1 Axes>"
      ]
     },
     "metadata": {
      "needs_background": "light"
     },
     "output_type": "display_data"
    }
   ],
   "source": [
    "plt.imshow(a,cmap='gray')\n",
    "plt.axis('off')\n",
    "plt.show()"
   ]
  },
  {
   "cell_type": "code",
   "execution_count": 229,
   "id": "eb8e234b",
   "metadata": {},
   "outputs": [
    {
     "name": "stdout",
     "output_type": "stream",
     "text": [
      "(50,) (50,)\n",
      "(18,)\n",
      "[27 28 29 30 31 32 33 34 35 36 37 38 39 40 41 42 43 44]\n",
      "(20,) (20,)\n",
      "(15,)\n",
      "[ 0  1  2  3  4  5 11 12 13 14 15 16 17 18 19]\n",
      "True True\n",
      "(72,) (66,)\n"
     ]
    }
   ],
   "source": [
    "a_chain = get_chain_code_features(a)[0]\n",
    "a_hinge = get_hinge_features1(a)\n",
    "print(np.isfinite(a_chain).all(),np.isfinite(a_hinge).all())\n",
    "print(a_chain.shape,a_hinge.shape)"
   ]
  },
  {
   "cell_type": "code",
   "execution_count": null,
   "id": "ca5f3a01",
   "metadata": {},
   "outputs": [],
   "source": []
  },
  {
   "cell_type": "code",
   "execution_count": null,
   "id": "36dfce3a",
   "metadata": {},
   "outputs": [],
   "source": []
  },
  {
   "cell_type": "code",
   "execution_count": null,
   "id": "3e2cb7df",
   "metadata": {},
   "outputs": [],
   "source": []
  },
  {
   "cell_type": "code",
   "execution_count": null,
   "id": "3a8322d8",
   "metadata": {},
   "outputs": [],
   "source": []
  },
  {
   "cell_type": "markdown",
   "id": "ff982b8e",
   "metadata": {},
   "source": [
    "MNIST 피처추출 후 로지스틱"
   ]
  },
  {
   "cell_type": "code",
   "execution_count": 139,
   "id": "28dfc665",
   "metadata": {},
   "outputs": [
    {
     "name": "stderr",
     "output_type": "stream",
     "text": [
      "454it [00:02, 176.89it/s]C:\\Users\\minki\\Desktop\\손글씨\\preprocess.py:50: RuntimeWarning: invalid value encountered in true_divide\n",
      "  normalised_hist = hist / np.sum(hist)\n",
      "10000it [00:52, 190.80it/s]\n",
      "10000it [00:52, 190.10it/s]\n",
      "10000it [00:52, 190.95it/s]"
     ]
    },
    {
     "name": "stdout",
     "output_type": "stream",
     "text": [
      "9971 9975 9958\n",
      "9971 9975 9958\n",
      "9971 9975 9958\n"
     ]
    },
    {
     "name": "stderr",
     "output_type": "stream",
     "text": [
      "\n"
     ]
    }
   ],
   "source": [
    "(x_train, y_train), (x_test, y_test) = tf.keras.datasets.mnist.load_data()\n",
    "\n",
    "# 훈련셋과 검증셋 분리\n",
    "x_val = x_train[50000:]\n",
    "y_val = y_train[50000:]\n",
    "\n",
    "#train data는 만개만 사용\n",
    "x_train = x_train[:10000]\n",
    "y_train = y_train[:10000]\n",
    "\n",
    "# One-hot 인코딩\n",
    "y_train_oh = tf.keras.utils.to_categorical(y_train, 10)\n",
    "y_test_oh = tf.keras.utils.to_categorical(y_test, 10)\n",
    "y_val_oh = tf.keras.utils.to_categorical(y_val, 10)\n",
    "\n",
    "x_train_feature = []\n",
    "x_valid_feature = []\n",
    "x_test_feature = []\n",
    "\n",
    "y_train_oh_1 = []\n",
    "y_val_oh_1 = []\n",
    "y_test_oh_1 = []\n",
    "\n",
    "y_train_1 = []\n",
    "y_val_1 = []\n",
    "y_test_1 = []\n",
    "\n",
    "from_data = {'x_train' : x_train ,'x_val' : x_val ,'x_test':x_test}\n",
    "to_data = {'x_train' : x_train_feature ,'x_val' : x_valid_feature ,'x_test':x_test_feature}\n",
    "\n",
    "from_y_oh = {'x_train' : y_train_oh ,'x_val' : y_val_oh ,'x_test':y_test_oh}\n",
    "from_y = {'x_train' : y_train ,'x_val' : y_val ,'x_test':y_test}\n",
    "\n",
    "to_y_oh = {'x_train' : y_train_oh_1 ,'x_val' : y_val_oh_1 ,'x_test':y_test_oh_1}\n",
    "to_y = {'x_train' : y_train_1 ,'x_val' : y_val_1 ,'x_test':y_test_1}\n",
    "\n",
    "for mode in from_data:\n",
    "    for i ,img in tqdm(enumerate(from_data[mode])):\n",
    "        img = cv2.adaptiveThreshold(img, 255, cv2.ADAPTIVE_THRESH_GAUSSIAN_C,cv2.THRESH_BINARY, 3, 3)\n",
    "        \n",
    "        chain = get_chain_code_features(img)[0]\n",
    "        hinge = get_hinge_features(img)\n",
    "        if np.isfinite(chain).all()==True and np.isfinite(hinge).all()==True:\n",
    "            feature = np.concatenate([chain,hinge], axis=0)\n",
    "            to_data[mode].append(feature)\n",
    "            \n",
    "            to_y_oh[mode].append(from_y_oh[mode][i])\n",
    "            to_y[mode].append(from_y[mode][i])\n",
    "            \n",
    "print(len(x_train_feature),len(x_valid_feature),len(x_test_feature))\n",
    "print(len(y_train_1),len(y_val_1),len(y_test_1))\n",
    "print(len(y_train_oh_1),len(y_val_oh_1),len(y_test_oh_1))"
   ]
  },
  {
   "cell_type": "code",
   "execution_count": 140,
   "id": "bb18b10b",
   "metadata": {},
   "outputs": [],
   "source": [
    "from sklearn.preprocessing import StandardScaler\n",
    "cs = StandardScaler()\n",
    "x_train_feature = cs.fit_transform(x_train_feature)\n",
    "x_valid_feature = cs.transform(x_valid_feature)\n",
    "x_test_feature = cs.transform(x_test_feature)"
   ]
  },
  {
   "cell_type": "code",
   "execution_count": 151,
   "id": "69846094",
   "metadata": {},
   "outputs": [],
   "source": [
    "y_train_oh_1= np.array(y_train_oh_1)\n",
    "y_train_oh_1 = y_train_oh_1.reshape(-1,10)\n",
    "\n",
    "y_val_oh_1= np.array(y_val_oh_1)\n",
    "y_val_oh_1 = y_val_oh_1.reshape(-1,10)\n",
    "\n",
    "y_test_oh_1= np.array(y_test_oh_1)\n",
    "y_test_oh_1 = y_test_oh_1.reshape(-1,10)"
   ]
  },
  {
   "cell_type": "code",
   "execution_count": 152,
   "id": "3db31ba5",
   "metadata": {},
   "outputs": [
    {
     "name": "stdout",
     "output_type": "stream",
     "text": [
      "Model: \"sequential_3\"\n",
      "_________________________________________________________________\n",
      " Layer (type)                Output Shape              Param #   \n",
      "=================================================================\n",
      " dense_3 (Dense)             (None, 10)                1390      \n",
      "                                                                 \n",
      "=================================================================\n",
      "Total params: 1,390\n",
      "Trainable params: 1,390\n",
      "Non-trainable params: 0\n",
      "_________________________________________________________________\n",
      "Epoch 1/500\n",
      "100/100 [==============================] - 3s 5ms/step - loss: 2.1141 - accuracy: 0.3001 - val_loss: 1.5194 - val_accuracy: 0.4851\n",
      "Epoch 2/500\n",
      "100/100 [==============================] - 0s 3ms/step - loss: 1.2524 - accuracy: 0.5890 - val_loss: 1.0787 - val_accuracy: 0.6566\n",
      "Epoch 3/500\n",
      "100/100 [==============================] - 0s 4ms/step - loss: 0.9542 - accuracy: 0.7094 - val_loss: 0.8836 - val_accuracy: 0.7359\n",
      "Epoch 4/500\n",
      "100/100 [==============================] - 0s 3ms/step - loss: 0.8057 - accuracy: 0.7656 - val_loss: 0.7766 - val_accuracy: 0.7719\n",
      "Epoch 5/500\n",
      "100/100 [==============================] - 0s 3ms/step - loss: 0.7160 - accuracy: 0.7962 - val_loss: 0.7085 - val_accuracy: 0.7944\n",
      "Epoch 6/500\n",
      "100/100 [==============================] - 0s 3ms/step - loss: 0.6563 - accuracy: 0.8120 - val_loss: 0.6622 - val_accuracy: 0.8089\n",
      "Epoch 7/500\n",
      "100/100 [==============================] - 0s 3ms/step - loss: 0.6129 - accuracy: 0.8226 - val_loss: 0.6286 - val_accuracy: 0.8167\n",
      "Epoch 8/500\n",
      "100/100 [==============================] - 0s 4ms/step - loss: 0.5798 - accuracy: 0.8333 - val_loss: 0.6020 - val_accuracy: 0.8239\n",
      "Epoch 9/500\n",
      "100/100 [==============================] - 0s 3ms/step - loss: 0.5542 - accuracy: 0.8411 - val_loss: 0.5829 - val_accuracy: 0.8295\n",
      "Epoch 10/500\n",
      "100/100 [==============================] - 0s 3ms/step - loss: 0.5333 - accuracy: 0.8466 - val_loss: 0.5670 - val_accuracy: 0.8354\n",
      "Epoch 11/500\n",
      "100/100 [==============================] - 0s 3ms/step - loss: 0.5163 - accuracy: 0.8529 - val_loss: 0.5542 - val_accuracy: 0.8396\n",
      "Epoch 12/500\n",
      "100/100 [==============================] - 0s 3ms/step - loss: 0.5018 - accuracy: 0.8559 - val_loss: 0.5433 - val_accuracy: 0.8398\n",
      "Epoch 13/500\n",
      "100/100 [==============================] - 0s 4ms/step - loss: 0.4893 - accuracy: 0.8591 - val_loss: 0.5341 - val_accuracy: 0.8428\n",
      "Epoch 14/500\n",
      "100/100 [==============================] - 0s 3ms/step - loss: 0.4788 - accuracy: 0.8611 - val_loss: 0.5267 - val_accuracy: 0.8467\n",
      "Epoch 15/500\n",
      "100/100 [==============================] - 0s 3ms/step - loss: 0.4695 - accuracy: 0.8658 - val_loss: 0.5202 - val_accuracy: 0.8482\n",
      "Epoch 16/500\n",
      "100/100 [==============================] - 0s 3ms/step - loss: 0.4612 - accuracy: 0.8679 - val_loss: 0.5147 - val_accuracy: 0.8492\n",
      "Epoch 17/500\n",
      "100/100 [==============================] - 0s 3ms/step - loss: 0.4538 - accuracy: 0.8690 - val_loss: 0.5096 - val_accuracy: 0.8499\n",
      "Epoch 18/500\n",
      "100/100 [==============================] - 0s 3ms/step - loss: 0.4474 - accuracy: 0.8723 - val_loss: 0.5058 - val_accuracy: 0.8521\n",
      "Epoch 19/500\n",
      "100/100 [==============================] - 0s 4ms/step - loss: 0.4415 - accuracy: 0.8728 - val_loss: 0.5017 - val_accuracy: 0.8529\n",
      "Epoch 20/500\n",
      "100/100 [==============================] - 0s 4ms/step - loss: 0.4362 - accuracy: 0.8743 - val_loss: 0.4979 - val_accuracy: 0.8541\n",
      "Epoch 21/500\n",
      "100/100 [==============================] - 0s 3ms/step - loss: 0.4313 - accuracy: 0.8754 - val_loss: 0.4950 - val_accuracy: 0.8544\n",
      "Epoch 22/500\n",
      "100/100 [==============================] - 0s 3ms/step - loss: 0.4268 - accuracy: 0.8761 - val_loss: 0.4925 - val_accuracy: 0.8543\n",
      "Epoch 23/500\n",
      "100/100 [==============================] - 0s 3ms/step - loss: 0.4227 - accuracy: 0.8769 - val_loss: 0.4907 - val_accuracy: 0.8559\n",
      "Epoch 24/500\n",
      "100/100 [==============================] - 0s 3ms/step - loss: 0.4190 - accuracy: 0.8769 - val_loss: 0.4879 - val_accuracy: 0.8564\n",
      "Epoch 25/500\n",
      "100/100 [==============================] - 0s 3ms/step - loss: 0.4157 - accuracy: 0.8783 - val_loss: 0.4862 - val_accuracy: 0.8573\n",
      "Epoch 26/500\n",
      "100/100 [==============================] - 0s 3ms/step - loss: 0.4127 - accuracy: 0.8805 - val_loss: 0.4848 - val_accuracy: 0.8573\n",
      "Epoch 27/500\n",
      "100/100 [==============================] - 0s 3ms/step - loss: 0.4095 - accuracy: 0.8797 - val_loss: 0.4833 - val_accuracy: 0.8571\n",
      "Epoch 28/500\n",
      "100/100 [==============================] - 0s 3ms/step - loss: 0.4069 - accuracy: 0.8812 - val_loss: 0.4816 - val_accuracy: 0.8581\n",
      "Epoch 29/500\n",
      "100/100 [==============================] - 0s 4ms/step - loss: 0.4041 - accuracy: 0.8817 - val_loss: 0.4804 - val_accuracy: 0.8587\n",
      "Epoch 30/500\n",
      "100/100 [==============================] - 0s 3ms/step - loss: 0.4016 - accuracy: 0.8828 - val_loss: 0.4786 - val_accuracy: 0.8587\n",
      "Epoch 31/500\n",
      "100/100 [==============================] - 0s 3ms/step - loss: 0.3996 - accuracy: 0.8826 - val_loss: 0.4777 - val_accuracy: 0.8596\n",
      "Epoch 32/500\n",
      "100/100 [==============================] - 0s 4ms/step - loss: 0.3977 - accuracy: 0.8837 - val_loss: 0.4770 - val_accuracy: 0.8593\n",
      "Epoch 33/500\n",
      "100/100 [==============================] - 0s 4ms/step - loss: 0.3953 - accuracy: 0.8838 - val_loss: 0.4757 - val_accuracy: 0.8603\n",
      "Epoch 34/500\n",
      "100/100 [==============================] - 0s 4ms/step - loss: 0.3935 - accuracy: 0.8833 - val_loss: 0.4757 - val_accuracy: 0.8611\n",
      "Epoch 35/500\n",
      "100/100 [==============================] - 0s 3ms/step - loss: 0.3920 - accuracy: 0.8843 - val_loss: 0.4739 - val_accuracy: 0.8604\n",
      "Epoch 36/500\n",
      "100/100 [==============================] - 0s 3ms/step - loss: 0.3900 - accuracy: 0.8850 - val_loss: 0.4743 - val_accuracy: 0.8606\n",
      "Epoch 37/500\n",
      "100/100 [==============================] - 0s 4ms/step - loss: 0.3886 - accuracy: 0.8855 - val_loss: 0.4732 - val_accuracy: 0.8615\n",
      "Epoch 38/500\n",
      "100/100 [==============================] - 0s 4ms/step - loss: 0.3869 - accuracy: 0.8870 - val_loss: 0.4722 - val_accuracy: 0.8614\n",
      "Epoch 39/500\n",
      "100/100 [==============================] - 0s 4ms/step - loss: 0.3855 - accuracy: 0.8857 - val_loss: 0.4720 - val_accuracy: 0.8614\n",
      "Epoch 40/500\n",
      "100/100 [==============================] - 0s 4ms/step - loss: 0.3841 - accuracy: 0.8868 - val_loss: 0.4712 - val_accuracy: 0.8604\n",
      "Epoch 41/500\n",
      "100/100 [==============================] - 0s 4ms/step - loss: 0.3827 - accuracy: 0.8876 - val_loss: 0.4717 - val_accuracy: 0.8628\n",
      "Epoch 42/500\n",
      "100/100 [==============================] - 0s 4ms/step - loss: 0.3816 - accuracy: 0.8872 - val_loss: 0.4710 - val_accuracy: 0.8601\n",
      "Epoch 43/500\n",
      "100/100 [==============================] - 0s 3ms/step - loss: 0.3805 - accuracy: 0.8869 - val_loss: 0.4707 - val_accuracy: 0.8616\n",
      "Epoch 44/500\n",
      "100/100 [==============================] - 0s 4ms/step - loss: 0.3791 - accuracy: 0.8873 - val_loss: 0.4698 - val_accuracy: 0.8626\n",
      "Epoch 45/500\n",
      "100/100 [==============================] - 0s 3ms/step - loss: 0.3787 - accuracy: 0.8867 - val_loss: 0.4695 - val_accuracy: 0.8623\n",
      "Epoch 46/500\n",
      "100/100 [==============================] - 0s 3ms/step - loss: 0.3773 - accuracy: 0.8891 - val_loss: 0.4691 - val_accuracy: 0.8624\n",
      "Epoch 47/500\n",
      "100/100 [==============================] - 0s 3ms/step - loss: 0.3760 - accuracy: 0.8885 - val_loss: 0.4691 - val_accuracy: 0.8628\n",
      "Epoch 48/500\n",
      "100/100 [==============================] - 0s 3ms/step - loss: 0.3752 - accuracy: 0.8884 - val_loss: 0.4680 - val_accuracy: 0.8624\n",
      "Epoch 49/500\n",
      "100/100 [==============================] - 0s 3ms/step - loss: 0.3743 - accuracy: 0.8884 - val_loss: 0.4680 - val_accuracy: 0.8630\n",
      "Epoch 50/500\n",
      "100/100 [==============================] - 0s 3ms/step - loss: 0.3733 - accuracy: 0.8888 - val_loss: 0.4690 - val_accuracy: 0.8628\n",
      "Epoch 51/500\n",
      "100/100 [==============================] - 0s 3ms/step - loss: 0.3727 - accuracy: 0.8888 - val_loss: 0.4675 - val_accuracy: 0.8626\n",
      "Epoch 52/500\n",
      "100/100 [==============================] - 0s 4ms/step - loss: 0.3722 - accuracy: 0.8895 - val_loss: 0.4678 - val_accuracy: 0.8633\n",
      "Epoch 53/500\n",
      "100/100 [==============================] - 0s 3ms/step - loss: 0.3713 - accuracy: 0.8887 - val_loss: 0.4669 - val_accuracy: 0.8629\n",
      "Epoch 54/500\n",
      "100/100 [==============================] - 0s 4ms/step - loss: 0.3704 - accuracy: 0.8891 - val_loss: 0.4670 - val_accuracy: 0.8637\n",
      "Epoch 55/500\n",
      "100/100 [==============================] - 0s 3ms/step - loss: 0.3697 - accuracy: 0.8900 - val_loss: 0.4671 - val_accuracy: 0.8627\n",
      "Epoch 56/500\n",
      "100/100 [==============================] - 0s 4ms/step - loss: 0.3688 - accuracy: 0.8915 - val_loss: 0.4674 - val_accuracy: 0.8637\n",
      "Epoch 57/500\n",
      "100/100 [==============================] - 0s 4ms/step - loss: 0.3683 - accuracy: 0.8903 - val_loss: 0.4669 - val_accuracy: 0.8626\n",
      "Epoch 58/500\n",
      "100/100 [==============================] - 0s 4ms/step - loss: 0.3677 - accuracy: 0.8905 - val_loss: 0.4668 - val_accuracy: 0.8640\n",
      "Epoch 59/500\n",
      "100/100 [==============================] - 0s 4ms/step - loss: 0.3668 - accuracy: 0.8897 - val_loss: 0.4668 - val_accuracy: 0.8621\n",
      "Epoch 60/500\n",
      "100/100 [==============================] - 0s 4ms/step - loss: 0.3665 - accuracy: 0.8908 - val_loss: 0.4662 - val_accuracy: 0.8639\n",
      "Epoch 61/500\n",
      "100/100 [==============================] - 0s 4ms/step - loss: 0.3658 - accuracy: 0.8895 - val_loss: 0.4668 - val_accuracy: 0.8630\n",
      "Epoch 62/500\n",
      "100/100 [==============================] - 0s 3ms/step - loss: 0.3655 - accuracy: 0.8910 - val_loss: 0.4662 - val_accuracy: 0.8636\n",
      "Epoch 63/500\n",
      "100/100 [==============================] - 0s 3ms/step - loss: 0.3644 - accuracy: 0.8905 - val_loss: 0.4668 - val_accuracy: 0.8646\n",
      "Epoch 64/500\n",
      "100/100 [==============================] - 0s 3ms/step - loss: 0.3641 - accuracy: 0.8911 - val_loss: 0.4655 - val_accuracy: 0.8645\n",
      "Epoch 65/500\n",
      "100/100 [==============================] - 0s 3ms/step - loss: 0.3636 - accuracy: 0.8900 - val_loss: 0.4659 - val_accuracy: 0.8635\n",
      "Epoch 66/500\n",
      "100/100 [==============================] - 0s 4ms/step - loss: 0.3631 - accuracy: 0.8906 - val_loss: 0.4659 - val_accuracy: 0.8632\n",
      "Epoch 67/500\n",
      "100/100 [==============================] - 0s 3ms/step - loss: 0.3626 - accuracy: 0.8905 - val_loss: 0.4653 - val_accuracy: 0.8645\n",
      "Epoch 68/500\n",
      "100/100 [==============================] - 0s 3ms/step - loss: 0.3620 - accuracy: 0.8900 - val_loss: 0.4657 - val_accuracy: 0.8637\n",
      "Epoch 69/500\n",
      "100/100 [==============================] - 0s 4ms/step - loss: 0.3616 - accuracy: 0.8904 - val_loss: 0.4663 - val_accuracy: 0.8641\n",
      "Epoch 70/500\n",
      "100/100 [==============================] - 0s 4ms/step - loss: 0.3608 - accuracy: 0.8917 - val_loss: 0.4654 - val_accuracy: 0.8638\n",
      "Epoch 71/500\n",
      "100/100 [==============================] - 0s 4ms/step - loss: 0.3605 - accuracy: 0.8911 - val_loss: 0.4652 - val_accuracy: 0.8634\n",
      "Epoch 72/500\n",
      "100/100 [==============================] - 0s 4ms/step - loss: 0.3601 - accuracy: 0.8917 - val_loss: 0.4651 - val_accuracy: 0.8640\n",
      "Epoch 73/500\n",
      "100/100 [==============================] - 0s 4ms/step - loss: 0.3598 - accuracy: 0.8918 - val_loss: 0.4654 - val_accuracy: 0.8645\n",
      "Epoch 74/500\n",
      "100/100 [==============================] - 0s 3ms/step - loss: 0.3594 - accuracy: 0.8913 - val_loss: 0.4656 - val_accuracy: 0.8637\n",
      "Epoch 75/500\n",
      "100/100 [==============================] - 0s 4ms/step - loss: 0.3588 - accuracy: 0.8907 - val_loss: 0.4649 - val_accuracy: 0.8639\n",
      "Epoch 76/500\n",
      "100/100 [==============================] - 0s 4ms/step - loss: 0.3583 - accuracy: 0.8928 - val_loss: 0.4655 - val_accuracy: 0.8644\n",
      "Epoch 77/500\n",
      "100/100 [==============================] - 0s 3ms/step - loss: 0.3580 - accuracy: 0.8916 - val_loss: 0.4664 - val_accuracy: 0.8645\n",
      "Epoch 78/500\n",
      "100/100 [==============================] - 0s 3ms/step - loss: 0.3578 - accuracy: 0.8919 - val_loss: 0.4651 - val_accuracy: 0.8654\n",
      "Epoch 79/500\n",
      "100/100 [==============================] - 0s 3ms/step - loss: 0.3575 - accuracy: 0.8936 - val_loss: 0.4649 - val_accuracy: 0.8638\n",
      "Epoch 80/500\n",
      "100/100 [==============================] - 0s 4ms/step - loss: 0.3570 - accuracy: 0.8924 - val_loss: 0.4661 - val_accuracy: 0.8649\n",
      "Epoch 81/500\n",
      "100/100 [==============================] - 0s 4ms/step - loss: 0.3568 - accuracy: 0.8924 - val_loss: 0.4649 - val_accuracy: 0.8646\n",
      "Epoch 82/500\n",
      "100/100 [==============================] - 0s 4ms/step - loss: 0.3563 - accuracy: 0.8918 - val_loss: 0.4648 - val_accuracy: 0.8658\n",
      "Epoch 83/500\n",
      "100/100 [==============================] - 0s 4ms/step - loss: 0.3559 - accuracy: 0.8931 - val_loss: 0.4648 - val_accuracy: 0.8648\n",
      "Epoch 84/500\n",
      "100/100 [==============================] - 0s 4ms/step - loss: 0.3558 - accuracy: 0.8931 - val_loss: 0.4647 - val_accuracy: 0.8653\n",
      "Epoch 85/500\n",
      "100/100 [==============================] - 0s 3ms/step - loss: 0.3554 - accuracy: 0.8933 - val_loss: 0.4654 - val_accuracy: 0.8656\n",
      "Epoch 86/500\n",
      "100/100 [==============================] - 0s 4ms/step - loss: 0.3551 - accuracy: 0.8936 - val_loss: 0.4649 - val_accuracy: 0.8654\n",
      "Epoch 87/500\n",
      "100/100 [==============================] - 0s 3ms/step - loss: 0.3547 - accuracy: 0.8923 - val_loss: 0.4650 - val_accuracy: 0.8659\n",
      "Epoch 88/500\n",
      "100/100 [==============================] - 0s 4ms/step - loss: 0.3542 - accuracy: 0.8931 - val_loss: 0.4655 - val_accuracy: 0.8651\n",
      "Epoch 89/500\n",
      "100/100 [==============================] - 0s 3ms/step - loss: 0.3540 - accuracy: 0.8909 - val_loss: 0.4661 - val_accuracy: 0.8647\n",
      "Epoch 90/500\n",
      "100/100 [==============================] - 0s 4ms/step - loss: 0.3537 - accuracy: 0.8931 - val_loss: 0.4649 - val_accuracy: 0.8649\n",
      "Epoch 91/500\n",
      "100/100 [==============================] - 0s 3ms/step - loss: 0.3537 - accuracy: 0.8928 - val_loss: 0.4655 - val_accuracy: 0.8652\n",
      "Epoch 92/500\n",
      "100/100 [==============================] - 0s 3ms/step - loss: 0.3536 - accuracy: 0.8915 - val_loss: 0.4651 - val_accuracy: 0.8654\n",
      "Epoch 93/500\n",
      "100/100 [==============================] - 0s 4ms/step - loss: 0.3529 - accuracy: 0.8921 - val_loss: 0.4643 - val_accuracy: 0.8650\n",
      "Epoch 94/500\n",
      "100/100 [==============================] - 0s 4ms/step - loss: 0.3529 - accuracy: 0.8931 - val_loss: 0.4653 - val_accuracy: 0.8646\n",
      "Epoch 95/500\n",
      "100/100 [==============================] - 0s 4ms/step - loss: 0.3525 - accuracy: 0.8932 - val_loss: 0.4654 - val_accuracy: 0.8653\n",
      "Epoch 96/500\n",
      "100/100 [==============================] - 0s 3ms/step - loss: 0.3520 - accuracy: 0.8932 - val_loss: 0.4659 - val_accuracy: 0.8643\n",
      "Epoch 97/500\n",
      "100/100 [==============================] - 0s 3ms/step - loss: 0.3524 - accuracy: 0.8926 - val_loss: 0.4642 - val_accuracy: 0.8659\n",
      "Epoch 98/500\n",
      "100/100 [==============================] - 0s 3ms/step - loss: 0.3516 - accuracy: 0.8932 - val_loss: 0.4649 - val_accuracy: 0.8644\n",
      "312/312 [==============================] - 0s 2ms/step - loss: 0.4868 - accuracy: 0.8598\n",
      "최종 예측 성공률(%):  85.98111867904663\n"
     ]
    }
   ],
   "source": [
    "#모델 생성\n",
    "tf.random.set_seed(42)\n",
    "\n",
    "model = tf.keras.Sequential()\n",
    "model.add(tf.keras.layers.Dense(units=10, input_dim=138, activation='softmax'))\n",
    "\n",
    "model.compile(loss='categorical_crossentropy', optimizer=tf.optimizers.Adam(lr=0.001), metrics=['accuracy'])\n",
    "model.summary()\n",
    "\n",
    "early_stopping = EarlyStopping(monitor='val_accuracy', min_delta=0.001, patience=20, verbose=0, mode='auto')\n",
    "model.fit(x_train_feature, y_train_oh_1, batch_size=100, epochs=500, validation_data=(x_valid_feature, y_val_oh_1),callbacks=[early_stopping])\n",
    "result = model.evaluate(x_test_feature, y_test_oh_1)\n",
    "print(\"최종 예측 성공률(%): \", result[1]*100)"
   ]
  },
  {
   "cell_type": "markdown",
   "id": "61cce470",
   "metadata": {},
   "source": [
    "결론 : MNIST같이 모양을 예측하는데도 특징 벡터가 잘 쓰인당  \n",
    "마지막으로 svm테스트"
   ]
  },
  {
   "cell_type": "code",
   "execution_count": null,
   "id": "d71209ef",
   "metadata": {},
   "outputs": [],
   "source": []
  },
  {
   "cell_type": "markdown",
   "id": "4b36c683",
   "metadata": {},
   "source": [
    "svm : vector 추출"
   ]
  },
  {
   "cell_type": "code",
   "execution_count": 159,
   "id": "e2676765",
   "metadata": {},
   "outputs": [
    {
     "name": "stdout",
     "output_type": "stream",
     "text": [
      "Fitting 5 folds for each of 25 candidates, totalling 125 fits\n"
     ]
    },
    {
     "name": "stderr",
     "output_type": "stream",
     "text": [
      "[Parallel(n_jobs=-1)]: Using backend LokyBackend with 16 concurrent workers.\n",
      "[Parallel(n_jobs=-1)]: Done  18 tasks      | elapsed:    0.2s\n",
      "[Parallel(n_jobs=-1)]: Done  94 out of 125 | elapsed:    1.1s remaining:    0.3s\n",
      "[Parallel(n_jobs=-1)]: Done 125 out of 125 | elapsed:    1.3s finished\n"
     ]
    },
    {
     "name": "stdout",
     "output_type": "stream",
     "text": [
      "0.781 {'C': 9, 'gamma': 0.001, 'kernel': 'rbf'}\n",
      "    rank_test_score                                      params  \\\n",
      "13                1   {'C': 9, 'gamma': 0.001, 'kernel': 'rbf'}   \n",
      "8                 2   {'C': 8, 'gamma': 0.001, 'kernel': 'rbf'}   \n",
      "4                 3   {'C': 7, 'gamma': 0.002, 'kernel': 'rbf'}   \n",
      "3                 4   {'C': 7, 'gamma': 0.001, 'kernel': 'rbf'}   \n",
      "23                5  {'C': 11, 'gamma': 0.001, 'kernel': 'rbf'}   \n",
      "\n",
      "    mean_test_score  \n",
      "13            0.781  \n",
      "8             0.780  \n",
      "4             0.777  \n",
      "3             0.777  \n",
      "23            0.775  \n"
     ]
    }
   ],
   "source": [
    "param_grid = {'kernel':['rbf'], 'C':[7,8,9,10,11], \n",
    "              'gamma':['auto','scale',0.0005,0.001,0.002]}\n",
    "\n",
    "svm_clf = SVC(decision_function_shape=\"ovr\")\n",
    "grid = GridSearchCV(svm_clf, param_grid=param_grid,scoring = 'accuracy',verbose = 1,n_jobs =-1) \n",
    "grid.fit(x_train_feature[:1000], y_train_1[:1000])\n",
    "print(grid.best_score_,grid.best_params_)\n",
    "print(pd.DataFrame(grid.cv_results_).sort_values(by='rank_test_score')[['rank_test_score','params','mean_test_score']][:5])"
   ]
  },
  {
   "cell_type": "code",
   "execution_count": 160,
   "id": "d82bffef",
   "metadata": {},
   "outputs": [
    {
     "name": "stdout",
     "output_type": "stream",
     "text": [
      "Accuracy: 78.73684210526316 %\n"
     ]
    }
   ],
   "source": [
    "svm_pred = grid.best_estimator_.predict(x_valid_feature)\n",
    "print('Accuracy:', accuracy_score(y_val_1, svm_pred)*100, '%')"
   ]
  },
  {
   "cell_type": "code",
   "execution_count": 161,
   "id": "56124418",
   "metadata": {},
   "outputs": [
    {
     "name": "stdout",
     "output_type": "stream",
     "text": [
      "Accuracy: 78.89134364330187 %\n"
     ]
    }
   ],
   "source": [
    "svm_pred = grid.best_estimator_.predict(x_test_feature)\n",
    "print('Accuracy:', accuracy_score(y_test_1, svm_pred)*100, '%')"
   ]
  },
  {
   "cell_type": "code",
   "execution_count": null,
   "id": "5615b5e2",
   "metadata": {},
   "outputs": [],
   "source": []
  },
  {
   "cell_type": "code",
   "execution_count": null,
   "id": "a615ff66",
   "metadata": {},
   "outputs": [],
   "source": []
  },
  {
   "cell_type": "markdown",
   "id": "f977d47e",
   "metadata": {},
   "source": [
    "svm : 이미지 (기존 방식)"
   ]
  },
  {
   "cell_type": "code",
   "execution_count": 162,
   "id": "383368d8",
   "metadata": {},
   "outputs": [
    {
     "name": "stdout",
     "output_type": "stream",
     "text": [
      "Fitting 5 folds for each of 35 candidates, totalling 175 fits\n"
     ]
    },
    {
     "name": "stderr",
     "output_type": "stream",
     "text": [
      "[Parallel(n_jobs=-1)]: Using backend LokyBackend with 16 concurrent workers.\n",
      "[Parallel(n_jobs=-1)]: Done  18 tasks      | elapsed:    2.3s\n",
      "[Parallel(n_jobs=-1)]: Done 175 out of 175 | elapsed:   14.0s finished\n"
     ]
    },
    {
     "name": "stdout",
     "output_type": "stream",
     "text": [
      "0.869 {'C': 10, 'gamma': 0.001, 'kernel': 'rbf'}\n",
      "    rank_test_score                                      params  \\\n",
      "16                1  {'C': 30, 'gamma': 0.001, 'kernel': 'rbf'}   \n",
      "2                 1  {'C': 10, 'gamma': 0.001, 'kernel': 'rbf'}   \n",
      "30                1  {'C': 70, 'gamma': 0.001, 'kernel': 'rbf'}   \n",
      "23                1  {'C': 50, 'gamma': 0.001, 'kernel': 'rbf'}   \n",
      "9                 1  {'C': 20, 'gamma': 0.001, 'kernel': 'rbf'}   \n",
      "\n",
      "    mean_test_score  \n",
      "16            0.869  \n",
      "2             0.869  \n",
      "30            0.869  \n",
      "23            0.869  \n",
      "9             0.869  \n"
     ]
    }
   ],
   "source": [
    "from sklearn.preprocessing import StandardScaler\n",
    "(x_train, y_train), (x_test, y_test) = tf.keras.datasets.mnist.load_data()\n",
    "\n",
    "x_train = x_train.reshape(-1, 28*28)\n",
    "x_test = x_test.reshape(-1, 28*28)\n",
    "\n",
    "# 훈련셋과 검증셋 분리\n",
    "x_val = x_train[50000:]\n",
    "y_val = y_train[50000:]\n",
    "x_train = x_train[:50000]\n",
    "y_train = y_train[:50000]\n",
    "\n",
    "cs = StandardScaler()\n",
    "x_train = cs.fit_transform(x_train)\n",
    "x_val = cs.transform(x_val)\n",
    "x_test = cs.transform(x_test)\n",
    "\n",
    "param_grid = {'kernel':['rbf'], 'C':[10,20,30,50,70], \n",
    "              'gamma':['auto','scale',0.001,0.005,0.007,0.01,0.05]}\n",
    "\n",
    "svm_clf = SVC(decision_function_shape=\"ovr\")\n",
    "grid = GridSearchCV(svm_clf, param_grid=param_grid,scoring = 'accuracy',verbose = 1,n_jobs =-1) \n",
    "grid.fit(x_train[:1000], y_train[:1000])\n",
    "print(grid.best_score_,grid.best_params_)\n",
    "print(pd.DataFrame(grid.cv_results_).sort_values(by='rank_test_score')[['rank_test_score','params','mean_test_score']][:5])"
   ]
  },
  {
   "cell_type": "code",
   "execution_count": 163,
   "id": "b4694b58",
   "metadata": {},
   "outputs": [
    {
     "name": "stdout",
     "output_type": "stream",
     "text": [
      "Accuracy: 89.0 %\n"
     ]
    }
   ],
   "source": [
    "svm_pred = grid.best_estimator_.predict(x_val)\n",
    "print('Accuracy:', accuracy_score(y_val, svm_pred)*100, '%')"
   ]
  },
  {
   "cell_type": "code",
   "execution_count": 164,
   "id": "e2c25a49",
   "metadata": {},
   "outputs": [
    {
     "name": "stdout",
     "output_type": "stream",
     "text": [
      "Accuracy: 88.32 %\n"
     ]
    }
   ],
   "source": [
    "svm_pred = grid.best_estimator_.predict(x_test)\n",
    "print('Accuracy:', accuracy_score(y_test, svm_pred)*100, '%')"
   ]
  },
  {
   "cell_type": "code",
   "execution_count": null,
   "id": "d03cab27",
   "metadata": {},
   "outputs": [],
   "source": []
  },
  {
   "cell_type": "code",
   "execution_count": null,
   "id": "1364a925",
   "metadata": {},
   "outputs": [],
   "source": []
  }
 ],
 "metadata": {
  "kernelspec": {
   "display_name": "Python 3",
   "language": "python",
   "name": "python3"
  },
  "language_info": {
   "codemirror_mode": {
    "name": "ipython",
    "version": 3
   },
   "file_extension": ".py",
   "mimetype": "text/x-python",
   "name": "python",
   "nbconvert_exporter": "python",
   "pygments_lexer": "ipython3",
   "version": "3.8.5"
  }
 },
 "nbformat": 4,
 "nbformat_minor": 5
}
